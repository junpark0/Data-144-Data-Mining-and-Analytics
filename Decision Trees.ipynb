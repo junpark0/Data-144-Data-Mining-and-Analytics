{
 "cells": [
  {
   "cell_type": "markdown",
   "metadata": {
    "id": "vAxKKJ84ugjs"
   },
   "source": [
    "# DMA Fall '21"
   ]
  },
  {
   "cell_type": "code",
   "execution_count": 2,
   "metadata": {
    "id": "nFr3Tjz_ugjv"
   },
   "outputs": [],
   "source": [
    "NAME = \"Jun Park\"\n",
    "COLLABORATORS = \"\""
   ]
  },
  {
   "cell_type": "markdown",
   "metadata": {
    "id": "VtQyVZG7ugj0"
   },
   "source": [
    "---"
   ]
  },
  {
   "cell_type": "markdown",
   "metadata": {
    "deletable": false,
    "editable": false,
    "id": "dSxT_unDugj1",
    "nbgrader": {
     "checksum": "0ec61936c13b80ce01fa0818121a29a9",
     "grade": false,
     "grade_id": "cell-c6a6e713740ff888",
     "locked": true,
     "schema_version": 1,
     "solution": false
    }
   },
   "source": [
    "# Lab 3: Decision Trees\n",
    "\n",
    "**Please read the following instructions very carefully**\n",
    "\n",
    "## Working on the assignment / FAQs\n",
    "- **Always use the seed/random_state as *42* wherever applicable** (This is to ensure repeatability in answers, across students and coding environments) \n",
    "- Questions can be either autograded and manually graded.\n",
    "- The type of question and the points they carry are indicated in each question cell\n",
    "- An autograded question has 3 cells\n",
    "     - **Question cell** : Read only cell containing the question\n",
    "     - **Code Cell** : This is where you write the code\n",
    "     - **Grading cell** : This is where the grading occurs, and **you are required not to edit this cell**\n",
    "- Manually graded questions only have the question and code cells. **All manually graded questions are explicitly stated**\n",
    "- To avoid any ambiguity, each question also specifies what *value* must be set. Note that these are dummy values and not the answers\n",
    "- If an autograded question has multiple answers (due to differences in handling NaNs, zeros etc.), all answers will be considered.\n",
    "- Most assignments have bonus questions for extra credit, do try them out! \n",
    "- You can delete the `raise NotImplementedError()` for all questions.\n",
    "- **Submitting the assignment** : Download the '.ipynb' file from Colab and upload it to bcourses. Do not delete any outputs from cells before submitting.\n",
    "- That's about it. Happy coding!\n",
    "\n",
    "\n",
    "## About the dataset\n",
    "This assignment uses a dataset obtained from the JSE Data Archive that contains biological and self-reported activity traits of a sample of college students at a single university uploaded in 2013. The study associated with these data focused on exploring if a correspondence exists between eye color and and other traits. You will be using gender as the target/label in this lab.\n",
    "\n",
    "FEATURE DESCRIPTIONS: \n",
    "- Color (Blue, Brown, Green, Hazel, Other)\n",
    "- Age (in years)\n",
    "- YearinSchool (First, Second, Third, Fourth, Other)\n",
    "- Height (in inches)\n",
    "- Miles (distance from home town of student to Ames, IA) \n",
    "- Brothers (number of brothers)\n",
    "- Sisters (number of sisters)\n",
    "- CompTime (number of hours spent on computer per week)\n",
    "- Exercise (whether the student exercises Yes or No)\n",
    "- ExerTime (number of hours spent exercising per week)\n",
    "- MusicCDs (number of music CDs student owns)\n",
    "- PlayGames (number of hours spent playing games per week)\n",
    "- WatchTV (number of hours spent watching TV per week\n",
    "\n",
    "Background Information on the dataset: http://jse.amstat.org/v21n2/froelich/eyecolorgender.txt "
   ]
  },
  {
   "cell_type": "code",
   "execution_count": 3,
   "metadata": {
    "colab": {
     "base_uri": "https://localhost:8080/",
     "height": 408
    },
    "deletable": false,
    "editable": false,
    "id": "xeiDHBc5ugj2",
    "nbgrader": {
     "checksum": "0fb5897b9d372125635a32c3c25065db",
     "grade": false,
     "grade_id": "cell-0c1c5a5b7543f388",
     "locked": true,
     "schema_version": 1,
     "solution": false
    },
    "outputId": "335d996d-11c3-43e2-9407-352e6fa3a473"
   },
   "outputs": [
    {
     "name": "stdout",
     "output_type": "stream",
     "text": [
      "--2021-09-15 07:59:21--  http://askoski.berkeley.edu/~zp/eye_color.csv\n",
      "Resolving askoski.berkeley.edu (askoski.berkeley.edu)... 169.229.192.179\n",
      "Connecting to askoski.berkeley.edu (askoski.berkeley.edu)|169.229.192.179|:80... connected.\n",
      "HTTP request sent, awaiting response... 200 OK\n",
      "Length: 101507 (99K) [text/csv]\n",
      "Saving to: ‘eye_color.csv’\n",
      "\n",
      "eye_color.csv       100%[===================>]  99.13K   126KB/s    in 0.8s    \n",
      "\n",
      "2021-09-15 07:59:23 (126 KB/s) - ‘eye_color.csv’ saved [101507/101507]\n",
      "\n",
      "eye_color.csv  sample_data\n"
     ]
    },
    {
     "data": {
      "text/html": [
       "<div>\n",
       "<style scoped>\n",
       "    .dataframe tbody tr th:only-of-type {\n",
       "        vertical-align: middle;\n",
       "    }\n",
       "\n",
       "    .dataframe tbody tr th {\n",
       "        vertical-align: top;\n",
       "    }\n",
       "\n",
       "    .dataframe thead th {\n",
       "        text-align: right;\n",
       "    }\n",
       "</style>\n",
       "<table border=\"1\" class=\"dataframe\">\n",
       "  <thead>\n",
       "    <tr style=\"text-align: right;\">\n",
       "      <th></th>\n",
       "      <th>gender</th>\n",
       "      <th>age</th>\n",
       "      <th>year</th>\n",
       "      <th>eyecolor</th>\n",
       "      <th>height</th>\n",
       "      <th>miles</th>\n",
       "      <th>brothers</th>\n",
       "      <th>sisters</th>\n",
       "      <th>computertime</th>\n",
       "      <th>exercise</th>\n",
       "      <th>exercisehours</th>\n",
       "      <th>musiccds</th>\n",
       "      <th>playgames</th>\n",
       "      <th>watchtv</th>\n",
       "    </tr>\n",
       "  </thead>\n",
       "  <tbody>\n",
       "    <tr>\n",
       "      <th>0</th>\n",
       "      <td>female</td>\n",
       "      <td>18</td>\n",
       "      <td>first</td>\n",
       "      <td>hazel</td>\n",
       "      <td>68.0</td>\n",
       "      <td>195.0</td>\n",
       "      <td>0</td>\n",
       "      <td>1</td>\n",
       "      <td>20.0</td>\n",
       "      <td>Yes</td>\n",
       "      <td>3.0</td>\n",
       "      <td>75.0</td>\n",
       "      <td>6.0</td>\n",
       "      <td>18.0</td>\n",
       "    </tr>\n",
       "    <tr>\n",
       "      <th>1</th>\n",
       "      <td>male</td>\n",
       "      <td>20</td>\n",
       "      <td>third</td>\n",
       "      <td>brown</td>\n",
       "      <td>70.0</td>\n",
       "      <td>120.0</td>\n",
       "      <td>3</td>\n",
       "      <td>0</td>\n",
       "      <td>24.0</td>\n",
       "      <td>No</td>\n",
       "      <td>0.0</td>\n",
       "      <td>50.0</td>\n",
       "      <td>0.0</td>\n",
       "      <td>3.0</td>\n",
       "    </tr>\n",
       "    <tr>\n",
       "      <th>2</th>\n",
       "      <td>female</td>\n",
       "      <td>18</td>\n",
       "      <td>first</td>\n",
       "      <td>green</td>\n",
       "      <td>67.0</td>\n",
       "      <td>200.0</td>\n",
       "      <td>0</td>\n",
       "      <td>1</td>\n",
       "      <td>35.0</td>\n",
       "      <td>Yes</td>\n",
       "      <td>3.0</td>\n",
       "      <td>53.0</td>\n",
       "      <td>8.0</td>\n",
       "      <td>1.0</td>\n",
       "    </tr>\n",
       "    <tr>\n",
       "      <th>3</th>\n",
       "      <td>male</td>\n",
       "      <td>23</td>\n",
       "      <td>fourth</td>\n",
       "      <td>hazel</td>\n",
       "      <td>74.0</td>\n",
       "      <td>140.0</td>\n",
       "      <td>1</td>\n",
       "      <td>1</td>\n",
       "      <td>5.0</td>\n",
       "      <td>Yes</td>\n",
       "      <td>25.0</td>\n",
       "      <td>50.0</td>\n",
       "      <td>0.0</td>\n",
       "      <td>7.0</td>\n",
       "    </tr>\n",
       "    <tr>\n",
       "      <th>4</th>\n",
       "      <td>female</td>\n",
       "      <td>19</td>\n",
       "      <td>second</td>\n",
       "      <td>blue</td>\n",
       "      <td>62.0</td>\n",
       "      <td>60.0</td>\n",
       "      <td>0</td>\n",
       "      <td>1</td>\n",
       "      <td>5.0</td>\n",
       "      <td>Yes</td>\n",
       "      <td>4.0</td>\n",
       "      <td>30.0</td>\n",
       "      <td>2.0</td>\n",
       "      <td>5.0</td>\n",
       "    </tr>\n",
       "  </tbody>\n",
       "</table>\n",
       "</div>"
      ],
      "text/plain": [
       "   gender  age    year eyecolor  ...  exercisehours  musiccds  playgames  watchtv\n",
       "0  female   18   first    hazel  ...            3.0      75.0        6.0     18.0\n",
       "1    male   20   third    brown  ...            0.0      50.0        0.0      3.0\n",
       "2  female   18   first    green  ...            3.0      53.0        8.0      1.0\n",
       "3    male   23  fourth    hazel  ...           25.0      50.0        0.0      7.0\n",
       "4  female   19  second     blue  ...            4.0      30.0        2.0      5.0\n",
       "\n",
       "[5 rows x 14 columns]"
      ]
     },
     "execution_count": 3,
     "metadata": {},
     "output_type": "execute_result"
    }
   ],
   "source": [
    "from collections import Counter, defaultdict\n",
    "from itertools import combinations \n",
    "import pandas as pd\n",
    "import numpy as np\n",
    "import operator\n",
    "import math\n",
    "import itertools\n",
    "from sklearn.feature_extraction import DictVectorizer\n",
    "from sklearn import preprocessing, tree\n",
    "import matplotlib.pyplot as plt\n",
    "\n",
    "\n",
    "!wget -nc http://askoski.berkeley.edu/~zp/eye_color.csv\n",
    "!ls\n",
    "df = pd.read_csv('eye_color.csv')\n",
    "# remove NA's and reset the index\n",
    "df = df.dropna(axis=0, how='any', thresh=None, subset=None, inplace=False)\n",
    "df = df.reset_index(drop=True)\n",
    "\n",
    "df.head()"
   ]
  },
  {
   "cell_type": "markdown",
   "metadata": {
    "deletable": false,
    "editable": false,
    "id": "S2_bd_sZugj_",
    "nbgrader": {
     "checksum": "f27367e7e9ea794fdff16caaf9834f90",
     "grade": false,
     "grade_id": "cell-80cb77583712aa18",
     "locked": true,
     "schema_version": 1,
     "solution": false
    }
   },
   "source": [
    "---\n",
    "**Question 1 (0.5 points, autograded)**: How many males and females exist in the dataset?"
   ]
  },
  {
   "cell_type": "code",
   "execution_count": 4,
   "metadata": {
    "colab": {
     "base_uri": "https://localhost:8080/"
    },
    "deletable": false,
    "id": "Qq43exlvugkA",
    "nbgrader": {
     "checksum": "7bae96e9bc3cf6154faf15c8c953a12d",
     "grade": false,
     "grade_id": "cell-30e88bd16d0691ae",
     "locked": false,
     "schema_version": 1,
     "solution": true
    },
    "outputId": "7cbe2ba5-9264-4410-e6d0-479066c08d5e"
   },
   "outputs": [
    {
     "data": {
      "text/plain": [
       "gender\n",
       "female    1078\n",
       "male       910\n",
       "dtype: int64"
      ]
     },
     "execution_count": 4,
     "metadata": {},
     "output_type": "execute_result"
    }
   ],
   "source": [
    "df.groupby('gender').size()\n",
    "#raise NotImplementedError()"
   ]
  },
  {
   "cell_type": "code",
   "execution_count": 5,
   "metadata": {
    "deletable": false,
    "id": "qowIpB1MugkL",
    "nbgrader": {
     "checksum": "4b015ffcf2248033a4c736e194051ce0",
     "grade": false,
     "grade_id": "cell-b6afcdf2e16edeaf",
     "locked": false,
     "schema_version": 1,
     "solution": true
    }
   },
   "outputs": [],
   "source": [
    "#The value set in the variables must be integers\n",
    "num_males = 910 #Replace 0 with the actual value\n",
    "num_females = 1078 #Replace 0 with the actual value\n",
    "\n",
    "# YOUR CODE HERE\n",
    "#raise NotImplementedError()"
   ]
  },
  {
   "cell_type": "code",
   "execution_count": 6,
   "metadata": {
    "colab": {
     "base_uri": "https://localhost:8080/"
    },
    "deletable": false,
    "editable": false,
    "id": "rxROmUKRugkQ",
    "nbgrader": {
     "checksum": "b5f6c5a26715775443afa42a101640d3",
     "grade": true,
     "grade_id": "cell-148801df79f2a9ad",
     "locked": true,
     "points": 0.5,
     "schema_version": 1,
     "solution": false
    },
    "outputId": "289f939c-a608-4ebb-967c-ce198de5209b"
   },
   "outputs": [
    {
     "name": "stdout",
     "output_type": "stream",
     "text": [
      "910 1078\n"
     ]
    }
   ],
   "source": [
    "#This is an autograded cell, do not edit\n",
    "print(num_males, num_females)"
   ]
  },
  {
   "cell_type": "markdown",
   "metadata": {
    "deletable": false,
    "editable": false,
    "id": "LE7EGFnbugkU",
    "nbgrader": {
     "checksum": "46a9256f2edd92e7d4ab52309a6b4c57",
     "grade": false,
     "grade_id": "cell-c087e3cd6c8885e2",
     "locked": true,
     "schema_version": 1,
     "solution": false
    }
   },
   "source": [
    "---\n",
    "**Question 2 (0.5 points, autograded)**: What is the Gini Index of this dataset, using males and females as the target classes?"
   ]
  },
  {
   "cell_type": "code",
   "execution_count": 7,
   "metadata": {
    "colab": {
     "base_uri": "https://localhost:8080/"
    },
    "deletable": false,
    "id": "L5-IeBVlugkV",
    "nbgrader": {
     "checksum": "099940e4f38498b7848e39cf16effa72",
     "grade": false,
     "grade_id": "cell-77e48e0f5499c4dc",
     "locked": false,
     "schema_version": 1,
     "solution": true
    },
    "outputId": "6ea738d2-2d03-482b-8439-3ac8f604011e"
   },
   "outputs": [
    {
     "data": {
      "text/plain": [
       "0.49642927990478075"
      ]
     },
     "execution_count": 7,
     "metadata": {},
     "output_type": "execute_result"
    }
   ],
   "source": [
    "1 - (num_males/(num_males + num_females))**2 - (num_females/(num_males + num_females))**2\n",
    "#raise NotImplementedError()"
   ]
  },
  {
   "cell_type": "code",
   "execution_count": 8,
   "metadata": {
    "deletable": false,
    "id": "qWJVFWqqugkZ",
    "nbgrader": {
     "checksum": "9ad8fad77a751f201648404551610cd0",
     "grade": false,
     "grade_id": "cell-48020b6f76b01df8",
     "locked": false,
     "schema_version": 1,
     "solution": true
    }
   },
   "outputs": [],
   "source": [
    "#The value set in the variable must be float\n",
    "gini_index = 0.49642927990478075 #Replace 0 with the actual value / formula\n",
    "\n",
    "# YOUR CODE HERE\n",
    "#raise NotImplementedError()"
   ]
  },
  {
   "cell_type": "code",
   "execution_count": 9,
   "metadata": {
    "colab": {
     "base_uri": "https://localhost:8080/"
    },
    "deletable": false,
    "editable": false,
    "id": "N6nvXmTHugke",
    "nbgrader": {
     "checksum": "9e64fcb8ce6b4b69fad066fea2ced65a",
     "grade": true,
     "grade_id": "cell-7ae5a16e0caf13e6",
     "locked": true,
     "points": 0.5,
     "schema_version": 1,
     "solution": false
    },
    "outputId": "be3ad1f7-d37a-4109-ea03-03b332c6f53a"
   },
   "outputs": [
    {
     "name": "stdout",
     "output_type": "stream",
     "text": [
      "0.49642927990478075\n"
     ]
    }
   ],
   "source": [
    "#This is an autograded cell, do not edit\n",
    "print(gini_index)"
   ]
  },
  {
   "cell_type": "markdown",
   "metadata": {
    "deletable": false,
    "editable": false,
    "id": "p4XzX2Jjugkj",
    "nbgrader": {
     "checksum": "df88f99709afdfc9d92e17de990723e4",
     "grade": false,
     "grade_id": "cell-429dd5b9870bc4f0",
     "locked": true,
     "schema_version": 1,
     "solution": false
    }
   },
   "source": [
    "---\n",
    "## Best Split of a numeric feature\n",
    "**Question 3 (1.5 points, autograded)**: What is the best split point of the 'height' feature? (Still using males and females as the target classes, assuming a binary split)\n",
    "\n",
    "Recall that, to calculate the best split of this numeric field, you'll need to order your data by 'height', then consider the midpoint between each pair of consecutive heights as a potential split point, then calculate the Gini Index for that partitioning. You'll want to keep track of the best split point and its Gini Index (remember that you are trying to minimize the Gini Index). "
   ]
  },
  {
   "cell_type": "code",
   "execution_count": 137,
   "metadata": {
    "colab": {
     "base_uri": "https://localhost:8080/"
    },
    "deletable": false,
    "id": "C922WXCougkm",
    "nbgrader": {
     "checksum": "39f67d746e08f968310e08a1e6302254",
     "grade": false,
     "grade_id": "cell-7e178474fbad8e3a",
     "locked": false,
     "schema_version": 1,
     "solution": true
    },
    "outputId": "bcd27c1a-ad9c-4b6b-cffd-483d2e7066bf"
   },
   "outputs": [
    {
     "data": {
      "text/plain": [
       "68.5"
      ]
     },
     "execution_count": 137,
     "metadata": {},
     "output_type": "execute_result"
    }
   ],
   "source": [
    "splits = []\n",
    "gini = {}\n",
    "\n",
    "q3_df = df.sort_values('height')[['height', 'gender']]\n",
    "height_vals = q3_df['height'].unique()\n",
    "height_vals = pd.Series(height_vals)\n",
    "\n",
    "for i in np.arange(len(height_vals) - 1):\n",
    "  new_point = (height_vals[i] + height_vals[i+1]) / 2\n",
    "  splits.append(new_point)\n",
    "\n",
    "#splits\n",
    "for i in splits:\n",
    "  less_than_i = (q3_df[q3_df['height'] < i])\n",
    "  greater_than_i = (q3_df[q3_df['height'] >= i])\n",
    "\n",
    "  male_less_than_i = len(less_than_i[less_than_i['gender'] == 'male']) / len(less_than_i)\n",
    "  female_less_than_i = len(less_than_i[less_than_i['gender'] == 'female']) / len(less_than_i)\n",
    "  male_greater_than_i = len(greater_than_i[greater_than_i['gender'] == 'male']) / len(greater_than_i)\n",
    "  female_greater_than_i = len(greater_than_i[greater_than_i['gender'] == 'female']) / len(greater_than_i)\n",
    "\n",
    "  gini_less_than = (len(less_than_i) / len(q3_df)) * (1 - male_less_than_i ** 2 - female_less_than_i ** 2)\n",
    "  gini_greater_than = (len(greater_than_i) / len(q3_df)) * (1 - male_greater_than_i ** 2 - female_greater_than_i ** 2) \n",
    "\n",
    "  gini[i] = (gini_less_than + gini_greater_than)\n",
    "\n",
    "min(gini, key=gini.get)\n",
    "\n",
    "#raise NotImplementedError()"
   ]
  },
  {
   "cell_type": "code",
   "execution_count": 138,
   "metadata": {
    "deletable": false,
    "id": "RiMp3KiOugkv",
    "nbgrader": {
     "checksum": "6f2ddee90f539fef475c3cf581869a7f",
     "grade": false,
     "grade_id": "cell-fdcb9f54f35480c4",
     "locked": false,
     "schema_version": 1,
     "solution": true
    }
   },
   "outputs": [],
   "source": [
    "#The value set in the variable must be float\n",
    "best_split_point = 68.5 #Replace 0 with the actual value\n",
    "\n",
    "# YOUR CODE HERE\n",
    "#raise NotImplementedError()"
   ]
  },
  {
   "cell_type": "code",
   "execution_count": 139,
   "metadata": {
    "colab": {
     "base_uri": "https://localhost:8080/"
    },
    "deletable": false,
    "editable": false,
    "id": "61AwBlXhugk0",
    "nbgrader": {
     "checksum": "2b3dd2ed02ddb601bc36a52f45defd92",
     "grade": true,
     "grade_id": "cell-323f912bd5314e78",
     "locked": true,
     "points": 1.5,
     "schema_version": 1,
     "solution": false
    },
    "outputId": "1cc545f7-a409-414c-e1e8-0749382380e5"
   },
   "outputs": [
    {
     "name": "stdout",
     "output_type": "stream",
     "text": [
      "68.5\n"
     ]
    }
   ],
   "source": [
    "#This is an autograded cell, do not edit\n",
    "print(best_split_point)"
   ]
  },
  {
   "cell_type": "markdown",
   "metadata": {
    "deletable": false,
    "editable": false,
    "id": "AawaoNa9ugk2",
    "nbgrader": {
     "checksum": "166316144c3f9c6f82d2963c96c19ba4",
     "grade": false,
     "grade_id": "cell-aa468156b67c5ab6",
     "locked": true,
     "schema_version": 1,
     "solution": false
    }
   },
   "source": [
    "---\n",
    "**Question 4 (0.5 points, autograded)**: What is the Gini index of the best split point of the 'height' feature? (Still using males and females as the target classes, assuming a binary split)\n"
   ]
  },
  {
   "cell_type": "code",
   "execution_count": 13,
   "metadata": {
    "deletable": false,
    "id": "J_8GTuoSugk3",
    "nbgrader": {
     "checksum": "ee6e07cc1c224dbd0852a4105190e3f2",
     "grade": false,
     "grade_id": "cell-11b6c20fa6270892",
     "locked": false,
     "schema_version": 1,
     "solution": true
    }
   },
   "outputs": [],
   "source": [
    "best_gini = gini[best_split_point]\n",
    "#raise NotImplementedError()"
   ]
  },
  {
   "cell_type": "code",
   "execution_count": 14,
   "metadata": {
    "deletable": false,
    "id": "nnY4qayGugk8",
    "nbgrader": {
     "checksum": "4264def559ba5fe2e77d3688f04d9cfd",
     "grade": false,
     "grade_id": "cell-bef6191446f0b09e",
     "locked": false,
     "schema_version": 1,
     "solution": true
    }
   },
   "outputs": [],
   "source": [
    "#The value set in the variable must be float\n",
    "gini_of_best_split_point = best_gini #Replace 0 with the actual value\n",
    "\n",
    "# YOUR CODE HERE\n",
    "#raise NotImplementedError()"
   ]
  },
  {
   "cell_type": "code",
   "execution_count": 15,
   "metadata": {
    "colab": {
     "base_uri": "https://localhost:8080/"
    },
    "deletable": false,
    "editable": false,
    "id": "qtHNnrD8ugk_",
    "nbgrader": {
     "checksum": "0a0c63234a8f7fe57d8a19b011609fda",
     "grade": true,
     "grade_id": "cell-a483f7c52ce46218",
     "locked": true,
     "points": 0.5,
     "schema_version": 1,
     "solution": false
    },
    "outputId": "b191b29f-cb51-42ae-ef18-b633a64723c4"
   },
   "outputs": [
    {
     "name": "stdout",
     "output_type": "stream",
     "text": [
      "0.2655288120702919\n"
     ]
    }
   ],
   "source": [
    "#This is an autograded cell, do not edit\n",
    "print(gini_of_best_split_point)"
   ]
  },
  {
   "cell_type": "markdown",
   "metadata": {
    "deletable": false,
    "editable": false,
    "id": "TILEzh_WuglE",
    "nbgrader": {
     "checksum": "3e4a285a07159ff52a5f4ffe396f74d6",
     "grade": false,
     "grade_id": "cell-3d05b5c3faef353d",
     "locked": true,
     "schema_version": 1,
     "solution": false
    }
   },
   "source": [
    "---\n",
    "**Question 5 (0.5 points, autograded)**: How much does this partitioning reduce the Gini Index over the Gini index of the overall dataset?"
   ]
  },
  {
   "cell_type": "code",
   "execution_count": 16,
   "metadata": {
    "deletable": false,
    "id": "qOCZ13AAuglG",
    "nbgrader": {
     "checksum": "58f9b4479c238a525df6aa057e6eaa3b",
     "grade": false,
     "grade_id": "cell-1ab03a8159601e29",
     "locked": false,
     "schema_version": 1,
     "solution": true
    }
   },
   "outputs": [],
   "source": [
    "answer = gini_index - gini_of_best_split_point\n",
    "#raise NotImplementedError()"
   ]
  },
  {
   "cell_type": "code",
   "execution_count": 17,
   "metadata": {
    "deletable": false,
    "id": "Z_jBrzFLuglN",
    "nbgrader": {
     "checksum": "0d222b71a5f4dd420fd140eeefb846d4",
     "grade": false,
     "grade_id": "cell-fbcebc71fc8bc842",
     "locked": false,
     "schema_version": 1,
     "solution": true
    }
   },
   "outputs": [],
   "source": [
    "#The value set in the variable must be float\n",
    "gini_difference = answer #Replace 0 with the actual value\n",
    "\n",
    "# YOUR CODE HERE\n",
    "#raise NotImplementedError()"
   ]
  },
  {
   "cell_type": "code",
   "execution_count": 18,
   "metadata": {
    "colab": {
     "base_uri": "https://localhost:8080/"
    },
    "deletable": false,
    "editable": false,
    "id": "XrLS99QPuglQ",
    "nbgrader": {
     "checksum": "86c116a776736ca45f3b04f15f237623",
     "grade": true,
     "grade_id": "cell-f24e621d36c96976",
     "locked": true,
     "points": 0.5,
     "schema_version": 1,
     "solution": false
    },
    "outputId": "86b64173-f0d1-48a3-dff0-b7acd9640570"
   },
   "outputs": [
    {
     "name": "stdout",
     "output_type": "stream",
     "text": [
      "0.23090046783448887\n"
     ]
    }
   ],
   "source": [
    "#This is an autograded cell, do not edit\n",
    "print(gini_difference)"
   ]
  },
  {
   "cell_type": "markdown",
   "metadata": {
    "deletable": false,
    "editable": false,
    "id": "4vI5aG7GuglS",
    "nbgrader": {
     "checksum": "a3c0d5d5951cda89ddc95d0edd3c006d",
     "grade": false,
     "grade_id": "cell-68fc7f06fbb3bd5c",
     "locked": true,
     "schema_version": 1,
     "solution": false
    }
   },
   "source": [
    "---\n",
    "**Question 6 (0.5 points, autograded)**: How many 'female' and 'male' rows are shorter than the best height split point?"
   ]
  },
  {
   "cell_type": "code",
   "execution_count": 19,
   "metadata": {
    "colab": {
     "base_uri": "https://localhost:8080/",
     "height": 142
    },
    "id": "23Olk3gZX-Df",
    "outputId": "75841868-8346-4f9a-a981-75e42ea08804"
   },
   "outputs": [
    {
     "data": {
      "text/html": [
       "<div>\n",
       "<style scoped>\n",
       "    .dataframe tbody tr th:only-of-type {\n",
       "        vertical-align: middle;\n",
       "    }\n",
       "\n",
       "    .dataframe tbody tr th {\n",
       "        vertical-align: top;\n",
       "    }\n",
       "\n",
       "    .dataframe thead th {\n",
       "        text-align: right;\n",
       "    }\n",
       "</style>\n",
       "<table border=\"1\" class=\"dataframe\">\n",
       "  <thead>\n",
       "    <tr style=\"text-align: right;\">\n",
       "      <th></th>\n",
       "      <th>height</th>\n",
       "    </tr>\n",
       "    <tr>\n",
       "      <th>gender</th>\n",
       "      <th></th>\n",
       "    </tr>\n",
       "  </thead>\n",
       "  <tbody>\n",
       "    <tr>\n",
       "      <th>female</th>\n",
       "      <td>905</td>\n",
       "    </tr>\n",
       "    <tr>\n",
       "      <th>male</th>\n",
       "      <td>142</td>\n",
       "    </tr>\n",
       "  </tbody>\n",
       "</table>\n",
       "</div>"
      ],
      "text/plain": [
       "        height\n",
       "gender        \n",
       "female     905\n",
       "male       142"
      ]
     },
     "execution_count": 19,
     "metadata": {},
     "output_type": "execute_result"
    }
   ],
   "source": [
    "df[['gender', 'height']].groupby('gender').apply(lambda x: (x < best_split_point).sum())"
   ]
  },
  {
   "cell_type": "code",
   "execution_count": 20,
   "metadata": {
    "deletable": false,
    "id": "xAB5GTeauglX",
    "nbgrader": {
     "checksum": "71225beec49fc733245cd37612d3712e",
     "grade": false,
     "grade_id": "cell-fed4f19f21abcc31",
     "locked": false,
     "schema_version": 1,
     "solution": true
    }
   },
   "outputs": [],
   "source": [
    "#The value set in the variable must be integer\n",
    "female_rows_below = 905 #Replace 0 with the actual value\n",
    "male_rows_below = 142 #Replace 0 with the actual value\n",
    "# YOUR CODE HERE\n",
    "#raise NotImplementedError()"
   ]
  },
  {
   "cell_type": "code",
   "execution_count": 21,
   "metadata": {
    "colab": {
     "base_uri": "https://localhost:8080/"
    },
    "deletable": false,
    "editable": false,
    "id": "MiBZAc9vugld",
    "nbgrader": {
     "checksum": "12c1b2345e628bec41463cf88a60aeb0",
     "grade": true,
     "grade_id": "cell-8129604534bfec74",
     "locked": true,
     "points": 0.5,
     "schema_version": 1,
     "solution": false
    },
    "outputId": "ad865c76-86c8-4ab7-f1e3-8e3a9ec689fd"
   },
   "outputs": [
    {
     "name": "stdout",
     "output_type": "stream",
     "text": [
      "905 142\n"
     ]
    }
   ],
   "source": [
    "#This is an autograded cell, do not edit\n",
    "print(female_rows_below, male_rows_below)"
   ]
  },
  {
   "cell_type": "markdown",
   "metadata": {
    "deletable": false,
    "editable": false,
    "id": "GmBNDTILuglg",
    "nbgrader": {
     "checksum": "9fa8403981b6352444437901acb0d45c",
     "grade": false,
     "grade_id": "cell-95c30c8534082764",
     "locked": true,
     "schema_version": 1,
     "solution": false
    }
   },
   "source": [
    "---\n",
    "**Question 7 (0.5 points, autograded)**: How many 'female' and 'male' rows are taller than the best height split point?"
   ]
  },
  {
   "cell_type": "code",
   "execution_count": 22,
   "metadata": {
    "colab": {
     "base_uri": "https://localhost:8080/",
     "height": 142
    },
    "deletable": false,
    "id": "dHJLmbwvuglh",
    "nbgrader": {
     "checksum": "9754f9fb331109f6c4b2b834211f0021",
     "grade": false,
     "grade_id": "cell-8b16da8f6a50682f",
     "locked": false,
     "schema_version": 1,
     "solution": true
    },
    "outputId": "f6160ee8-2bff-4007-ef54-41552f3fbf9e"
   },
   "outputs": [
    {
     "data": {
      "text/html": [
       "<div>\n",
       "<style scoped>\n",
       "    .dataframe tbody tr th:only-of-type {\n",
       "        vertical-align: middle;\n",
       "    }\n",
       "\n",
       "    .dataframe tbody tr th {\n",
       "        vertical-align: top;\n",
       "    }\n",
       "\n",
       "    .dataframe thead th {\n",
       "        text-align: right;\n",
       "    }\n",
       "</style>\n",
       "<table border=\"1\" class=\"dataframe\">\n",
       "  <thead>\n",
       "    <tr style=\"text-align: right;\">\n",
       "      <th></th>\n",
       "      <th>height</th>\n",
       "    </tr>\n",
       "    <tr>\n",
       "      <th>gender</th>\n",
       "      <th></th>\n",
       "    </tr>\n",
       "  </thead>\n",
       "  <tbody>\n",
       "    <tr>\n",
       "      <th>female</th>\n",
       "      <td>173</td>\n",
       "    </tr>\n",
       "    <tr>\n",
       "      <th>male</th>\n",
       "      <td>768</td>\n",
       "    </tr>\n",
       "  </tbody>\n",
       "</table>\n",
       "</div>"
      ],
      "text/plain": [
       "        height\n",
       "gender        \n",
       "female     173\n",
       "male       768"
      ]
     },
     "execution_count": 22,
     "metadata": {},
     "output_type": "execute_result"
    }
   ],
   "source": [
    "df[['gender', 'height']].groupby('gender').apply(lambda x: (x > best_split_point).sum())\n",
    "#raise NotImplementedError()"
   ]
  },
  {
   "cell_type": "code",
   "execution_count": 23,
   "metadata": {
    "deletable": false,
    "id": "46G-hbpnugll",
    "nbgrader": {
     "checksum": "e2697ca1d9a6feec241ff33460d57600",
     "grade": false,
     "grade_id": "cell-2314033286696a75",
     "locked": false,
     "schema_version": 1,
     "solution": true
    }
   },
   "outputs": [],
   "source": [
    "\n",
    "#The value set in the variable must be integer\n",
    "female_rows_above = 173 #Replace 0 with the actual value\n",
    "male_rows_above = 768 #Replace 0 with the actual value\n",
    "# YOUR CODE HERE\n",
    "#raise NotImplementedError()"
   ]
  },
  {
   "cell_type": "code",
   "execution_count": 24,
   "metadata": {
    "colab": {
     "base_uri": "https://localhost:8080/"
    },
    "deletable": false,
    "editable": false,
    "id": "n2seT5oauglo",
    "nbgrader": {
     "checksum": "b2c8fbc90d6eb0473ef27e1855483904",
     "grade": true,
     "grade_id": "cell-da98dfdb73b8de96",
     "locked": true,
     "points": 0.5,
     "schema_version": 1,
     "solution": false
    },
    "outputId": "3df8bf54-abeb-4395-f20b-992c5ffa6d86"
   },
   "outputs": [
    {
     "name": "stdout",
     "output_type": "stream",
     "text": [
      "173 768\n"
     ]
    }
   ],
   "source": [
    "#This is an autograded cell, do not edit\n",
    "print(female_rows_above, male_rows_above)"
   ]
  },
  {
   "cell_type": "markdown",
   "metadata": {
    "deletable": false,
    "editable": false,
    "id": "waG6P9fyuglt",
    "nbgrader": {
     "checksum": "1600c335755c3857d742205f32718e81",
     "grade": false,
     "grade_id": "cell-f0f3bf7078e30689",
     "locked": true,
     "schema_version": 1,
     "solution": false
    }
   },
   "source": [
    "---\n",
    "## Best Split of a Categorial Variable\n",
    "\n",
    "**Question 8 (0.5 points, autograded)**: How many possible splits are there of the eyecolor feature? (Assuming binary split)\n",
    "\n",
    "Python tip: the combinations function of the itertools module allows you to enumerate combinations of a list. You might want to Google 'power set'.\n"
   ]
  },
  {
   "cell_type": "code",
   "execution_count": 47,
   "metadata": {
    "colab": {
     "base_uri": "https://localhost:8080/"
    },
    "id": "hFSyB3rFmRUv",
    "outputId": "4cad90f5-995e-4472-e95d-86c5907b380b"
   },
   "outputs": [
    {
     "data": {
      "text/plain": [
       "30"
      ]
     },
     "execution_count": 47,
     "metadata": {},
     "output_type": "execute_result"
    }
   ],
   "source": [
    "powerset = []\n",
    "for r in np.arange(1, len(df['eyecolor'].unique())):\n",
    "  subset_r = list(itertools.combinations(df['eyecolor'].unique(), r))\n",
    "  powerset += subset_r\n",
    "len(powerset)"
   ]
  },
  {
   "cell_type": "code",
   "execution_count": 48,
   "metadata": {
    "colab": {
     "base_uri": "https://localhost:8080/"
    },
    "deletable": false,
    "id": "1uYaZLJnuglu",
    "nbgrader": {
     "checksum": "2887cf4ef5a35baf851be351c05f0397",
     "grade": false,
     "grade_id": "cell-e5896ba56062be2d",
     "locked": false,
     "schema_version": 1,
     "solution": true
    },
    "outputId": "b34adfba-c257-44d1-b189-a16d3dca1713"
   },
   "outputs": [
    {
     "data": {
      "text/plain": [
       "30.0"
      ]
     },
     "execution_count": 48,
     "metadata": {},
     "output_type": "execute_result"
    }
   ],
   "source": [
    "from scipy.special import comb\n",
    "\n",
    "diff_colors = len(df['eyecolor'].unique())\n",
    "splits = comb(diff_colors, 1) + comb(diff_colors, 2) + comb(diff_colors, 3) + comb(diff_colors, 4) #+ comb(diff_colors, 5)\n",
    "splits\n",
    "#raise NotImplementedError()"
   ]
  },
  {
   "cell_type": "code",
   "execution_count": 49,
   "metadata": {
    "deletable": false,
    "id": "FozfnlkNuglx",
    "nbgrader": {
     "checksum": "c295a12954acf6f936b6a921a548717d",
     "grade": false,
     "grade_id": "cell-7cc929e1f346c97c",
     "locked": false,
     "schema_version": 1,
     "solution": true
    }
   },
   "outputs": [],
   "source": [
    "\n",
    "#The value set in the variable must be integer\n",
    "num_of_splits = 30 #Replace 0 with the actual value\n",
    "# YOUR CODE HERE\n",
    "#raise NotImplementedError()"
   ]
  },
  {
   "cell_type": "code",
   "execution_count": 50,
   "metadata": {
    "colab": {
     "base_uri": "https://localhost:8080/"
    },
    "deletable": false,
    "editable": false,
    "id": "cLupsW1Sugl0",
    "nbgrader": {
     "checksum": "d10ef3967a94bfbc24d620dceae732ed",
     "grade": true,
     "grade_id": "cell-e345841556e102c6",
     "locked": true,
     "points": 0.5,
     "schema_version": 1,
     "solution": false
    },
    "outputId": "7d132b99-7c27-4314-d313-bf19af49390d"
   },
   "outputs": [
    {
     "name": "stdout",
     "output_type": "stream",
     "text": [
      "30\n"
     ]
    }
   ],
   "source": [
    "#This is an autograded cell, do not edit\n",
    "print(num_of_splits)"
   ]
  },
  {
   "cell_type": "markdown",
   "metadata": {
    "deletable": false,
    "editable": false,
    "id": "PuLJsUuvugl3",
    "nbgrader": {
     "checksum": "3f998cc39260ed85ff0341750544bd86",
     "grade": false,
     "grade_id": "cell-8503b7bec552f92c",
     "locked": true,
     "schema_version": 1,
     "solution": false
    }
   },
   "source": [
    "---\n",
    "**Question 9 (1 points, autograded)**: Which split of eyecolor best splits the female and male rows, as measured by the Gini Index?"
   ]
  },
  {
   "cell_type": "code",
   "execution_count": 101,
   "metadata": {
    "colab": {
     "base_uri": "https://localhost:8080/"
    },
    "deletable": false,
    "id": "HLOlJnsqugl3",
    "nbgrader": {
     "checksum": "4f117805db47824ae1ef7129672c0d47",
     "grade": false,
     "grade_id": "cell-76f837f4f27e0842",
     "locked": false,
     "schema_version": 1,
     "solution": true
    },
    "outputId": "8dc9030c-133c-4067-c429-d666adf853db"
   },
   "outputs": [
    {
     "data": {
      "text/plain": [
       "('green',)"
      ]
     },
     "execution_count": 101,
     "metadata": {},
     "output_type": "execute_result"
    }
   ],
   "source": [
    "split_dict = {}\n",
    "\n",
    "for power in powerset:\n",
    "  q9_df_success = df[df['eyecolor'].isin(power)]\n",
    "  q9_df_fail = df[df['eyecolor'].isin(power) == False]\n",
    "\n",
    "  male_success = len(q9_df_success[q9_df_success['gender'] == 'male']) / len(q9_df_success)\n",
    "  female_success = len(q9_df_success[q9_df_success['gender'] == 'female']) / len(q9_df_success)\n",
    "  male_fail = len(q9_df_fail[q9_df_fail['gender'] == 'male']) / len(q9_df_fail)\n",
    "  female_fail = len(q9_df_fail[q9_df_fail['gender'] == 'female']) / len(q9_df_fail)\n",
    "\n",
    "  gini_success = (len(q9_df_success) / len(df)) * (1 - male_success**2 - female_success**2)\n",
    "  gini_fail = (len(q9_df_fail) / len(df)) * (1 - male_fail**2 - female_fail**2)\n",
    "\n",
    "  split_dict[power] = gini_success + gini_fail\n",
    "\n",
    "best_split = min(split_dict, key = split_dict.get)\n",
    "best_split\n",
    "\n",
    "#raise NotImplementedError()"
   ]
  },
  {
   "cell_type": "code",
   "execution_count": 102,
   "metadata": {
    "colab": {
     "base_uri": "https://localhost:8080/"
    },
    "id": "rJ-A67sp_tbf",
    "outputId": "67a45e7a-6f1d-4a01-a86d-3d70282801bb"
   },
   "outputs": [
    {
     "data": {
      "text/plain": [
       "{('blue',): 0.4952300404083957,\n",
       " ('blue', 'other'): 0.494857288346644,\n",
       " ('brown',): 0.49642657700684417,\n",
       " ('brown', 'blue'): 0.49509390781401696,\n",
       " ('brown', 'blue', 'other'): 0.4946032773910385,\n",
       " ('brown', 'green'): 0.49484143779263645,\n",
       " ('brown', 'green', 'blue'): 0.49636020205398296,\n",
       " ('brown', 'green', 'blue', 'other'): 0.4964263410051838,\n",
       " ('brown', 'green', 'other'): 0.49524084053631057,\n",
       " ('brown', 'other'): 0.4963771093896144,\n",
       " ('green',): 0.4930915729509777,\n",
       " ('green', 'blue'): 0.49636438348056044,\n",
       " ('green', 'blue', 'other'): 0.4964213911126203,\n",
       " ('green', 'other'): 0.494135566851495,\n",
       " ('hazel',): 0.4964263410051838,\n",
       " ('hazel', 'blue'): 0.49524084053631057,\n",
       " ('hazel', 'blue', 'other'): 0.49484143779263645,\n",
       " ('hazel', 'brown'): 0.4964213911126203,\n",
       " ('hazel', 'brown', 'blue'): 0.494135566851495,\n",
       " ('hazel', 'brown', 'blue', 'other'): 0.4930915729509777,\n",
       " ('hazel', 'brown', 'green'): 0.494857288346644,\n",
       " ('hazel', 'brown', 'green', 'blue'): 0.4960797640049744,\n",
       " ('hazel', 'brown', 'green', 'other'): 0.4952300404083957,\n",
       " ('hazel', 'brown', 'other'): 0.49636438348056044,\n",
       " ('hazel', 'green'): 0.4946032773910385,\n",
       " ('hazel', 'green', 'blue'): 0.4963771093896144,\n",
       " ('hazel', 'green', 'blue', 'other'): 0.49642657700684417,\n",
       " ('hazel', 'green', 'other'): 0.49509390781401696,\n",
       " ('hazel', 'other'): 0.49636020205398296,\n",
       " ('other',): 0.4960797640049744}"
      ]
     },
     "execution_count": 102,
     "metadata": {},
     "output_type": "execute_result"
    }
   ],
   "source": [
    "split_dict"
   ]
  },
  {
   "cell_type": "code",
   "execution_count": 103,
   "metadata": {
    "colab": {
     "base_uri": "https://localhost:8080/"
    },
    "id": "7j_wkuZCPJF9",
    "outputId": "313e8517-1a6c-4068-ec99-af0a9903a2f0"
   },
   "outputs": [
    {
     "data": {
      "text/plain": [
       "array(['hazel', 'brown', 'green', 'blue', 'other'], dtype=object)"
      ]
     },
     "execution_count": 103,
     "metadata": {},
     "output_type": "execute_result"
    }
   ],
   "source": [
    "df['eyecolor'].unique()"
   ]
  },
  {
   "cell_type": "code",
   "execution_count": 104,
   "metadata": {
    "deletable": false,
    "id": "iTBzhW_Vugl5",
    "nbgrader": {
     "checksum": "1904d5cda806153db739b5a397c420ce",
     "grade": false,
     "grade_id": "cell-c6d008b0007ae4d7",
     "locked": false,
     "schema_version": 1,
     "solution": true
    }
   },
   "outputs": [],
   "source": [
    "#The value set in the variable must be an array\n",
    "colour_group_1 = ['green'] #Replace [] with the actual colours/values in the group\n",
    "colour_group_2 = ['hazel', 'brown', 'blue', 'other'] #Replace [] with the actual colours/values in the group\n",
    "# YOUR CODE HERE\n",
    "#raise NotImplementedError()"
   ]
  },
  {
   "cell_type": "code",
   "execution_count": 105,
   "metadata": {
    "colab": {
     "base_uri": "https://localhost:8080/"
    },
    "deletable": false,
    "editable": false,
    "id": "DBKu0dDvugl-",
    "nbgrader": {
     "checksum": "4e306b120de04cbdc496f0bf5ca4bc75",
     "grade": true,
     "grade_id": "cell-633329070c59b89d",
     "locked": true,
     "points": 1,
     "schema_version": 1,
     "solution": false
    },
    "outputId": "54eaa051-52df-410f-90ba-352722babf5d"
   },
   "outputs": [
    {
     "name": "stdout",
     "output_type": "stream",
     "text": [
      "['green'] ['hazel', 'brown', 'blue', 'other']\n"
     ]
    }
   ],
   "source": [
    "#This is an autograded cell, do not edit\n",
    "print(colour_group_1, colour_group_2)"
   ]
  },
  {
   "cell_type": "markdown",
   "metadata": {
    "deletable": false,
    "editable": false,
    "id": "Q0n3uxWFugmC",
    "nbgrader": {
     "checksum": "a5fa6db03e0b1d03320f702d669e6328",
     "grade": false,
     "grade_id": "cell-54d3a4d63e10789a",
     "locked": true,
     "schema_version": 1,
     "solution": false
    }
   },
   "source": [
    "---\n",
    "**Question 10 (0.5 points, autograded)**: What is the Gini Index of this best split?"
   ]
  },
  {
   "cell_type": "code",
   "execution_count": null,
   "metadata": {
    "deletable": false,
    "id": "SLWuwwvnugmF",
    "nbgrader": {
     "checksum": "f1b5c57dc68cb76716cb9dd1e5cb00db",
     "grade": false,
     "grade_id": "cell-f755b4ebebdcbcd3",
     "locked": false,
     "schema_version": 1,
     "solution": true
    }
   },
   "outputs": [],
   "source": [
    "# YOUR CODE HERE\n",
    "raise NotImplementedError()"
   ]
  },
  {
   "cell_type": "code",
   "execution_count": 106,
   "metadata": {
    "deletable": false,
    "id": "VYJlCiCuugmJ",
    "nbgrader": {
     "checksum": "efce7c9024ee735ae78576a9e6153798",
     "grade": false,
     "grade_id": "cell-b9d691586c5addbd",
     "locked": false,
     "schema_version": 1,
     "solution": true
    }
   },
   "outputs": [],
   "source": [
    "#The value set in the variable must be float\n",
    "gini_of_best_split_group = split_dict[('green',)] #Replace 0 with the actual value\n",
    "\n",
    "# YOUR CODE HERE\n",
    "#raise NotImplementedError()"
   ]
  },
  {
   "cell_type": "code",
   "execution_count": 107,
   "metadata": {
    "colab": {
     "base_uri": "https://localhost:8080/"
    },
    "deletable": false,
    "editable": false,
    "id": "MFn6uVBcugmL",
    "nbgrader": {
     "checksum": "2d4da39818e70541f2d3a55729adbae0",
     "grade": true,
     "grade_id": "cell-7332ad4509b48564",
     "locked": true,
     "points": 0.5,
     "schema_version": 1,
     "solution": false
    },
    "outputId": "622f3f17-eacd-426e-c408-b333364f3b20"
   },
   "outputs": [
    {
     "name": "stdout",
     "output_type": "stream",
     "text": [
      "0.4930915729509777\n"
     ]
    }
   ],
   "source": [
    "#This is an autograded cell, do not edit\n",
    "print(gini_of_best_split_group)"
   ]
  },
  {
   "cell_type": "markdown",
   "metadata": {
    "deletable": false,
    "editable": false,
    "id": "_o0PW2rLugmO",
    "nbgrader": {
     "checksum": "473602565cfa2400f2ad7b85fd72b373",
     "grade": false,
     "grade_id": "cell-34f1033ad6a06232",
     "locked": true,
     "schema_version": 1,
     "solution": false
    }
   },
   "source": [
    "---\n",
    "**Question 11 (0.5 points, autograded)**: How much does this partitioning reduce the Gini Index over the Gini index of the overall dataset?"
   ]
  },
  {
   "cell_type": "code",
   "execution_count": 108,
   "metadata": {
    "deletable": false,
    "id": "Ja5w5_ucugmP",
    "nbgrader": {
     "checksum": "bf9360740e6f25bb1c156c93c1869845",
     "grade": false,
     "grade_id": "cell-68d41651a95a23df",
     "locked": false,
     "schema_version": 1,
     "solution": true
    }
   },
   "outputs": [],
   "source": [
    "gini_diff_2 = gini_index - gini_of_best_split_group\n",
    "#raise NotImplementedError()"
   ]
  },
  {
   "cell_type": "code",
   "execution_count": 109,
   "metadata": {
    "deletable": false,
    "id": "Z1m4Yf-NugmR",
    "nbgrader": {
     "checksum": "7d84ef913eb55fa6ab7d5f327bc8b650",
     "grade": false,
     "grade_id": "cell-7e15f66615ed4361",
     "locked": false,
     "schema_version": 1,
     "solution": true
    }
   },
   "outputs": [],
   "source": [
    "\n",
    "#The value set in the variable must be float\n",
    "gini_difference_2 = gini_diff_2 #Replace 0 with the actual value\n",
    "\n",
    "# YOUR CODE HERE\n",
    "#raise NotImplementedError()"
   ]
  },
  {
   "cell_type": "code",
   "execution_count": 110,
   "metadata": {
    "colab": {
     "base_uri": "https://localhost:8080/"
    },
    "deletable": false,
    "editable": false,
    "id": "-7ij3URDugmT",
    "nbgrader": {
     "checksum": "6ac2eb45e569ee8da44b7ed0faf33edc",
     "grade": true,
     "grade_id": "cell-a879c9d33c4f102f",
     "locked": true,
     "points": 0.5,
     "schema_version": 1,
     "solution": false
    },
    "outputId": "c25cfd34-f84f-4853-eee3-6ff88ef045c8"
   },
   "outputs": [
    {
     "name": "stdout",
     "output_type": "stream",
     "text": [
      "0.0033377069538030324\n"
     ]
    }
   ],
   "source": [
    "#This is an autograded cell, do not edit\n",
    "print(gini_difference_2)"
   ]
  },
  {
   "cell_type": "markdown",
   "metadata": {
    "deletable": false,
    "editable": false,
    "id": "C0UNgzrTugmX",
    "nbgrader": {
     "checksum": "60aae9f1a5f6e166acf954ee3219986a",
     "grade": false,
     "grade_id": "cell-a47e13b3fcc0108a",
     "locked": true,
     "schema_version": 1,
     "solution": false
    }
   },
   "source": [
    "---\n",
    "**Question 12 (1 points, autograded)** : How many 'female' rows and 'male' rows are in your first partition? How many 'female' rows and 'male' rows are in your second partition?"
   ]
  },
  {
   "cell_type": "code",
   "execution_count": 117,
   "metadata": {
    "deletable": false,
    "id": "JguwfDQmugmY",
    "nbgrader": {
     "checksum": "83f6848101b44ce8d5d499484d55d3b2",
     "grade": false,
     "grade_id": "cell-da838430a7b931e1",
     "locked": false,
     "schema_version": 1,
     "solution": true
    }
   },
   "outputs": [],
   "source": [
    "q12_df_success = df[df['eyecolor'] == 'green']\n",
    "q12_df_fail = df[df['eyecolor'] != 'green']\n",
    "\n",
    "p1_male = len(q12_df_success[q12_df_success['gender'] == 'male'])\n",
    "p1_female = len(q12_df_success[q12_df_success['gender'] == 'female'])\n",
    "p2_male = len(q12_df_fail[q12_df_fail['gender'] == 'male'])\n",
    "p2_female = len(q12_df_fail[q12_df_fail['gender'] == 'female'])\n",
    "#raise NotImplementedError()"
   ]
  },
  {
   "cell_type": "code",
   "execution_count": 118,
   "metadata": {
    "deletable": false,
    "id": "H-dDxSbDugma",
    "nbgrader": {
     "checksum": "3c880462e0a6e9e9d64542752b22cbef",
     "grade": false,
     "grade_id": "cell-e4c3bc95376f6df7",
     "locked": false,
     "schema_version": 1,
     "solution": true
    }
   },
   "outputs": [],
   "source": [
    "\n",
    "#The value set in the variable must be integer, order doesn't matter\n",
    "partition1_male = p1_male #Replace 0 with the actual value\n",
    "partition1_female = p1_female #Replace 0 with the actual value\n",
    "partition2_male = p2_male #Replace 0 with the actual value\n",
    "partition2_female = p2_female #Replace 0 with the actual value\n",
    "\n",
    "# YOUR CODE HERE\n",
    "#raise NotImplementedError()"
   ]
  },
  {
   "cell_type": "code",
   "execution_count": 119,
   "metadata": {
    "colab": {
     "base_uri": "https://localhost:8080/"
    },
    "deletable": false,
    "editable": false,
    "id": "XYCfnyCNugmd",
    "nbgrader": {
     "checksum": "0fdc2e6ab8f5b169f5bfd9566d85fc01",
     "grade": true,
     "grade_id": "cell-1c022d94964cb6cc",
     "locked": true,
     "points": 1,
     "schema_version": 1,
     "solution": false
    },
    "outputId": "80de1f4e-6284-45f0-e160-36dae7139a77"
   },
   "outputs": [
    {
     "name": "stdout",
     "output_type": "stream",
     "text": [
      "107 190 803 888\n"
     ]
    }
   ],
   "source": [
    "#This is an autograded cell, do not edit\n",
    "print(partition1_male, partition1_female, partition2_male, partition2_female)"
   ]
  },
  {
   "cell_type": "markdown",
   "metadata": {
    "deletable": false,
    "editable": false,
    "id": "JoFggmQGugmi",
    "nbgrader": {
     "checksum": "2d2ab95c05c31c5f214bd422e16e450b",
     "grade": false,
     "grade_id": "cell-d81b2ec1e886e1b6",
     "locked": true,
     "schema_version": 1,
     "solution": false
    }
   },
   "source": [
    "---\n",
    "## Training a decision tree\n",
    "**Question 13 (1 points, autograded)**: Using all of the features in the original dataframe read in at the top of this notebook, train a decision tree classifier that has a depth of three (not including the root node). What is the accuracy of this classifier on the training data?\n",
    "\n",
    "Scikit-learn classifiers require class labels and features to be in numeric arrays. As such, you will need to turn your categorical features into numeric arrays using DictVectorizer. This is a helpful notebook for understanding how to do this: http://nbviewer.ipython.org/gist/sarguido/7423289. You can turn a pandas dataframe of features into a dictionary of the form needed by DictVectorizer by using df.to_dict('records'). Make sure you remove the class label first (in this case, gender). If you use the class label as a feature, your classifier will have a training accuracy of 100%! The example notebook link also shows how to turn your class labels into a numeric array using sklearn.preprocessing.LabelEncoder()."
   ]
  },
  {
   "cell_type": "code",
   "execution_count": 66,
   "metadata": {
    "colab": {
     "base_uri": "https://localhost:8080/"
    },
    "deletable": false,
    "id": "kFIx_xdyugmj",
    "nbgrader": {
     "checksum": "14960b019250231f745c6db5a38c70f7",
     "grade": false,
     "grade_id": "cell-a77a52f79c83b21a",
     "locked": false,
     "schema_version": 1,
     "solution": true
    },
    "outputId": "13aa7219-19d8-466e-cf0b-414f7f3dec06"
   },
   "outputs": [
    {
     "data": {
      "text/plain": [
       "0.8646881287726358"
      ]
     },
     "execution_count": 66,
     "metadata": {},
     "output_type": "execute_result"
    }
   ],
   "source": [
    "le = preprocessing.LabelEncoder()\n",
    "q13_df = df.apply(le.fit_transform)\n",
    "\n",
    "x = q13_df.drop(columns = 'gender') #.to_dict('records')\n",
    "y = q13_df['gender']\n",
    "\n",
    "\n",
    "classifier = tree.DecisionTreeClassifier(max_depth = 3)\n",
    "classifier_fit = classifier.fit(x, y)\n",
    "\n",
    "accuracy = classifier_fit.score(x, y)\n",
    "accuracy\n",
    "\n",
    "\n",
    "#raise NotImplementedError()"
   ]
  },
  {
   "cell_type": "code",
   "execution_count": 68,
   "metadata": {
    "deletable": false,
    "id": "CqowI-lrugmn",
    "nbgrader": {
     "checksum": "f26339bc22d99829fefeb18e1c46cb06",
     "grade": false,
     "grade_id": "cell-55c9f9a2702cf09c",
     "locked": false,
     "schema_version": 1,
     "solution": true
    }
   },
   "outputs": [],
   "source": [
    "\n",
    "#The value set in the variable must be float\n",
    "accuracy = 0.8646881287726358 #Replace 0 with the actual value\n",
    "\n",
    "# YOUR CODE HERE\n",
    "#raise NotImplementedError()"
   ]
  },
  {
   "cell_type": "code",
   "execution_count": 69,
   "metadata": {
    "colab": {
     "base_uri": "https://localhost:8080/"
    },
    "deletable": false,
    "editable": false,
    "id": "urP93Al5ugmu",
    "nbgrader": {
     "checksum": "75544e763b81e3e36748ea0f4989c6ae",
     "grade": true,
     "grade_id": "cell-329a69c83b199316",
     "locked": true,
     "points": 1,
     "schema_version": 1,
     "solution": false
    },
    "outputId": "956244f0-068b-48f4-df03-6d15400f0edb"
   },
   "outputs": [
    {
     "name": "stdout",
     "output_type": "stream",
     "text": [
      "0.8646881287726358\n"
     ]
    }
   ],
   "source": [
    "#This is an autograded cell, do not edit\n",
    "print(accuracy)"
   ]
  },
  {
   "cell_type": "markdown",
   "metadata": {
    "deletable": false,
    "editable": false,
    "id": "MpU-3jviugm1",
    "nbgrader": {
     "checksum": "f23e20cb9c25f2f8d674f98079625ff2",
     "grade": false,
     "grade_id": "cell-e321872a66519e2c",
     "locked": true,
     "schema_version": 1,
     "solution": false
    }
   },
   "source": [
    "---\n",
    "**Question 14 (1 points, manually graded)**: Using the following code snippet, visualize your decision tree. In your write-up, **write down the interpretation of the rule at each node** which is used to perform the splitting.\n",
    "\n",
    "We provide **two options** to visualize decision trees. The first option uses `tree.plot_tree` and the other uses an external tool called `GraphViz`. You can **use either of the two options**.  `tree.plot_tree` is the **recommended and easier option** as it is a built-in function in `sklearn` and doesn't require any additional setup.\n",
    "\n",
    "Uncomment the code, **fill in the clf (classifier) and `feature_names` arguments**. Executing the code will display the tree visualization in the output cell. \n",
    "\n",
    "Note for users who want to install graphviz on their local machines (**you don't need to do install graphviz if you're running the notebook Colab**, which is the class' recommended way of doing assignments): \n",
    "\n",
    "\n",
    "\n",
    "> In order to install graphviz, you may need to download the tool from [this website](https://graphviz.gitlab.io), and then pip3/conda install the python libraries you do not have. Mac users can use ```brew install graphviz``` instead of following the link, and linux users can do the same using their favourite package manager (for example, Ubuntu users can use ```sudo apt-get install graphviz```, followed by the necessary pip3/conda installations.\n",
    "\n",
    "\n"
   ]
  },
  {
   "cell_type": "code",
   "execution_count": 71,
   "metadata": {
    "colab": {
     "base_uri": "https://localhost:8080/",
     "height": 792
    },
    "id": "CcYGDqUIIGZa",
    "outputId": "0238ce27-a95b-44ca-c3c1-da46b76e4e77"
   },
   "outputs": [
    {
     "data": {
      "image/png": "[encoded data removed]",
      "text/plain": [
       "<Figure size 1008x1008 with 1 Axes>"
      ]
     },
     "metadata": {
      "needs_background": "light"
     },
     "output_type": "display_data"
    }
   ],
   "source": [
    "#Option 1 (Recommended Option) - Using `tree.plot_tree`\n",
    "\n",
    "clf = classifier_fit\n",
    "fig, ax = plt.subplots(figsize = (14, 14))\n",
    "tree.plot_tree(clf, fontsize = 10, feature_names = x.columns); "
   ]
  },
  {
   "cell_type": "code",
   "execution_count": 120,
   "metadata": {
    "colab": {
     "base_uri": "https://localhost:8080/",
     "height": 589
    },
    "deletable": false,
    "editable": false,
    "id": "H80MNiT4ugm2",
    "nbgrader": {
     "checksum": "b43dac070b745305841e22382bc87bda",
     "grade": false,
     "grade_id": "cell-5aaab8332072d23e",
     "locked": true,
     "schema_version": 1,
     "solution": false
    },
    "outputId": "40371767-eaca-46d5-e17d-3642bf7515c1"
   },
   "outputs": [
    {
     "name": "stderr",
     "output_type": "stream",
     "text": [
      "/usr/local/lib/python3.7/dist-packages/sklearn/externals/six.py:31: FutureWarning: The module is deprecated in version 0.21 and will be removed in version 0.23 since we've dropped support for Python 2.7. Please rely on the official version of six (https://pypi.org/project/six/).\n",
      "  \"(https://pypi.org/project/six/).\", FutureWarning)\n"
     ]
    },
    {
     "data": {
      "image/png": "[encoded data removed]",
      "text/plain": [
       "<IPython.core.display.Image object>"
      ]
     },
     "execution_count": 120,
     "metadata": {},
     "output_type": "execute_result"
    }
   ],
   "source": [
    "#Option 2 - Using GraphViz. Visualization is prettier, but additional setup may be required if running on your local machine (although no setup required on Colab)  \n",
    "\n",
    "from IPython.display import Image  \n",
    "import pydotplus \n",
    "import pydot\n",
    "from sklearn.externals.six import StringIO\n",
    "\n",
    "\n",
    "clf = classifier_fit\n",
    "dotfile = StringIO() \n",
    "tree.export_graphviz(clf, out_file=dotfile,\n",
    "                      feature_names=x.columns,  \n",
    "                          class_names=['Female', 'Male'],  \n",
    "                          filled=True, rounded=True,  \n",
    "                          special_characters=True)\n",
    "graph = pydotplus.graph_from_dot_data(dotfile.getvalue())\n",
    "Image(graph.create_png())\n",
    "\n",
    "\n",
    "#Ignore the cell below, but do not delete it. It is used to grade the image output of this cell."
   ]
  },
  {
   "cell_type": "code",
   "execution_count": 129,
   "metadata": {
    "colab": {
     "base_uri": "https://localhost:8080/"
    },
    "deletable": false,
    "id": "ty3tzOLVugm8",
    "nbgrader": {
     "checksum": "cd77be0d5dbdbf44dccc26ef3ee69512",
     "grade": true,
     "grade_id": "cell-ebde7100c67bf20c",
     "locked": false,
     "points": 1,
     "schema_version": 1,
     "solution": true
    },
    "outputId": "9033c9d3-4c21-4e7c-d448-218c1f880de4"
   },
   "outputs": [
    {
     "name": "stdout",
     "output_type": "stream",
     "text": [
      "At depth 0, it splits based on whether \"height\" is less than or equal to 15.5 or greater than 15.5\n",
      "At depth 1 left node, it splits based on whether \"playgames\" is less than or equal to 15.5 or greater than 15.5\n",
      "At depth 1 right node, it splits based on whether \"height\" is less than or equal to 17.5 or greater than 17.5\n",
      "At depth 2 left branch left node, it splits based on whether \"height\" is less than or equal to 14.5 or greater than 14.5\n",
      "At depth 2 left branch right node, it splits based on whether \"height\" is less than or equal to 12.5 or greater than 12.5\n",
      "At depth 2 right branch left node, it splits based on whether \"playgames\" is less than or equal to 7.0 or greater than 7.0\n",
      "At depth 2 right branch right node, it splits based on whether \"playgames\" is less than or equal to 5.5 or greater than 5.5\n",
      "At depth 3, there is no more splitting the leaves are used to classify\n"
     ]
    }
   ],
   "source": [
    "print('At depth 0, it splits based on whether \"height\" is less than or equal to 15.5 or greater than 15.5') \n",
    "print('At depth 1 left node, it splits based on whether \"playgames\" is less than or equal to 15.5 or greater than 15.5') \n",
    "print('At depth 1 right node, it splits based on whether \"height\" is less than or equal to 17.5 or greater than 17.5')\n",
    "print('At depth 2 left branch left node, it splits based on whether \"height\" is less than or equal to 14.5 or greater than 14.5') \n",
    "print('At depth 2 left branch right node, it splits based on whether \"height\" is less than or equal to 12.5 or greater than 12.5') \n",
    "print('At depth 2 right branch left node, it splits based on whether \"playgames\" is less than or equal to 7.0 or greater than 7.0') \n",
    "print('At depth 2 right branch right node, it splits based on whether \"playgames\" is less than or equal to 5.5 or greater than 5.5') \n",
    "print('At depth 3, there is no more splitting the leaves are used to classify')\n",
    "#raise NotImplementedError()"
   ]
  },
  {
   "cell_type": "markdown",
   "metadata": {
    "deletable": false,
    "editable": false,
    "id": "gIOPTYuiugnF",
    "nbgrader": {
     "checksum": "29e84207b6e13109206f7ef78d0ff602",
     "grade": false,
     "grade_id": "cell-06714e6427b2d0d0",
     "locked": true,
     "schema_version": 1,
     "solution": false
    }
   },
   "source": [
    "---\n",
    "## Bonus Question (2 points, auto graded)\n",
    "For each of your leaf nodes, specify the percentage of 'female' rows in that node (out of the total number of rows at that node)\n"
   ]
  },
  {
   "cell_type": "code",
   "execution_count": 127,
   "metadata": {
    "deletable": false,
    "id": "co_iRKrUugnG",
    "nbgrader": {
     "checksum": "88cda91aeb11b6f96d6c2bacf4a4804e",
     "grade": false,
     "grade_id": "cell-650a81bc31e6f608",
     "locked": false,
     "schema_version": 1,
     "solution": true
    }
   },
   "outputs": [],
   "source": [
    "#The value set in the variable must be array\n",
    "ratios = [(774/(56+774))*100,\n",
    "          (97/(97+45))*100,\n",
    "          (22/(22+5))*100,\n",
    "          (12/(12+36))*100,\n",
    "          (107/(107+85))*100,\n",
    "          (16/(16+121))*100,\n",
    "          (37/(37+196))*100,\n",
    "          (13/(13+366))*100] #Replace 0 with the actual value\n",
    "\n",
    "# YOUR CODE HERE\n",
    "#raise NotImplementedError()\n"
   ]
  },
  {
   "cell_type": "code",
   "execution_count": 128,
   "metadata": {
    "colab": {
     "base_uri": "https://localhost:8080/"
    },
    "deletable": false,
    "editable": false,
    "id": "Ugyn_t3lugnH",
    "nbgrader": {
     "checksum": "de18cf01eb62a9398145d3f1879681d5",
     "grade": true,
     "grade_id": "cell-2cc540aa430d101d",
     "locked": true,
     "points": 2,
     "schema_version": 1,
     "solution": false
    },
    "outputId": "0656765d-1c8e-47cd-8e1c-fc0efbd2af81"
   },
   "outputs": [
    {
     "name": "stdout",
     "output_type": "stream",
     "text": [
      "[93.25301204819277, 68.30985915492957, 81.48148148148148, 25.0, 55.729166666666664, 11.678832116788321, 15.879828326180256, 3.430079155672823]\n"
     ]
    }
   ],
   "source": [
    "#This is an autograded cell, do not edit\n",
    "print(ratios)"
   ]
  },
  {
   "cell_type": "code",
   "execution_count": null,
   "metadata": {
    "id": "DIjVpr5ZugnU"
   },
   "outputs": [],
   "source": []
  }
 ],
 "metadata": {
  "colab": {
   "collapsed_sections": [],
   "name": "PARK_JUN_Lab3",
   "provenance": []
  },
  "kernelspec": {
   "display_name": "Python 3 (ipykernel)",
   "language": "python",
   "name": "python3"
  },
  "language_info": {
   "codemirror_mode": {
    "name": "ipython",
    "version": 3
   },
   "file_extension": ".py",
   "mimetype": "text/x-python",
   "name": "python",
   "nbconvert_exporter": "python",
   "pygments_lexer": "ipython3",
   "version": "3.9.9"
  }
 },
 "nbformat": 4,
 "nbformat_minor": 1
}

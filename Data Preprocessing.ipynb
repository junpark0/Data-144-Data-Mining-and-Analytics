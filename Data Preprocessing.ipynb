{
 "cells": [
  {
   "cell_type": "markdown",
   "metadata": {
    "id": "vKduyi9dItO4"
   },
   "source": [
    "Make sure you fill in any place that says `YOUR CODE HERE` or `YOUR ANSWER HERE`, as well as your name below:"
   ]
  },
  {
   "cell_type": "code",
   "execution_count": 1,
   "metadata": {
    "id": "FsEVbU41ItO7"
   },
   "outputs": [],
   "source": [
    "NAME = \"Jun Park\""
   ]
  },
  {
   "cell_type": "markdown",
   "metadata": {
    "id": "M7sDljEMItPA"
   },
   "source": [
    "---"
   ]
  },
  {
   "cell_type": "markdown",
   "metadata": {
    "deletable": false,
    "editable": false,
    "id": "LJNmSc7sItPB",
    "nbgrader": {
     "checksum": "720281502b9b9c7f8930d61c682cb061",
     "grade": false,
     "grade_id": "cell-731531e531b99c39",
     "locked": true,
     "schema_version": 1,
     "solution": false
    }
   },
   "source": [
    "# Lab 1 - Data Preprocessing\n",
    "\n",
    "Data transformations are useful for preparing a dataset for answering a particular question. Part of this process involves generating features from the dataset you find relevant to the question at hand. For this lab, we will be using a Yelp reviews dataset. Each row in the dataset depicts one review along with the features of the review (the reviewer, the review text, etc.). The goal of this lab is to convert this reviews dataset into a reviewers dataset by creating different features of each reviewer.\n",
    "\n",
    "The submission for this assignment should be done *individually*.\n",
    "\n",
    "# Environment Setup\n",
    "Run this cell to setup your environment."
   ]
  },
  {
   "cell_type": "code",
   "execution_count": 2,
   "metadata": {
    "colab": {
     "base_uri": "https://localhost:8080/"
    },
    "deletable": false,
    "editable": false,
    "id": "LIH96tFzItPC",
    "nbgrader": {
     "checksum": "c4f9a2a35aae087d70dccad8514e5e4f",
     "grade": false,
     "grade_id": "cell-88d067a4407f02bf",
     "locked": true,
     "schema_version": 1,
     "solution": false
    },
    "outputId": "df45a345-1de3-45c7-d6ac-7663d5eeb662"
   },
   "outputs": [
    {
     "name": "stdout",
     "output_type": "stream",
     "text": [
      "Libraries Imported\n",
      "--2021-09-01 07:04:41--  http://askoski.berkeley.edu/~zp/yelp_reviews.csv\n",
      "Resolving askoski.berkeley.edu (askoski.berkeley.edu)... 169.229.192.179\n",
      "Connecting to askoski.berkeley.edu (askoski.berkeley.edu)|169.229.192.179|:80... connected.\n",
      "HTTP request sent, awaiting response... 200 OK\n",
      "Length: 376638166 (359M) [text/csv]\n",
      "Saving to: ‘yelp_reviews.csv’\n",
      "\n",
      "yelp_reviews.csv    100%[===================>] 359.19M  35.6MB/s    in 17s     \n",
      "\n",
      "2021-09-01 07:05:00 (21.6 MB/s) - ‘yelp_reviews.csv’ saved [376638166/376638166]\n",
      "\n",
      "Dataset Downloaded: yelp_reviews.csv\n",
      "     type             business_id  ... useful_votes  funny_votes\n",
      "0  review  mxrXVZWc6PWk81gvOVNOUw  ...            0            0\n",
      "1  review  mxrXVZWc6PWk81gvOVNOUw  ...            0            0\n",
      "2  review  kK4AzZ0YWI-U2G-paAL7Fg  ...            0            0\n",
      "3  review  mxrXVZWc6PWk81gvOVNOUw  ...            1            0\n",
      "4  review  mxrXVZWc6PWk81gvOVNOUw  ...            0            1\n",
      "\n",
      "[5 rows x 9 columns]\n",
      "Setup Complete\n"
     ]
    }
   ],
   "source": [
    "# Importing libraries\n",
    "import pandas as pd\n",
    "import math\n",
    "import numpy as np\n",
    "import os\n",
    "print('Libraries Imported')\n",
    "\n",
    "#DOWNLOADING DATASET IF NOT PRESENT\n",
    "!wget -nc http://askoski.berkeley.edu/~zp/yelp_reviews.csv\n",
    "\n",
    "#!unzip yelp_reviews.zip\n",
    "print('Dataset Downloaded: yelp_reviews.csv')\n",
    "df=pd.read_csv('yelp_reviews.csv')\n",
    "print(df.head())\n",
    "\n",
    "print('Setup Complete')"
   ]
  },
  {
   "cell_type": "code",
   "execution_count": 3,
   "metadata": {
    "colab": {
     "base_uri": "https://localhost:8080/"
    },
    "id": "-yFz3ZQRyeRX",
    "outputId": "2f2a4869-1fa8-498e-c076-4675199866fc"
   },
   "outputs": [
    {
     "data": {
      "text/plain": [
       "Index(['type', 'business_id', 'user_id', 'stars', 'text', 'date', 'cool_votes',\n",
       "       'useful_votes', 'funny_votes'],\n",
       "      dtype='object')"
      ]
     },
     "execution_count": 3,
     "metadata": {},
     "output_type": "execute_result"
    }
   ],
   "source": [
    "yelp_reviews = pd.read_csv('yelp_reviews.csv')\n",
    "yelp_reviews.columns"
   ]
  },
  {
   "cell_type": "markdown",
   "metadata": {
    "deletable": false,
    "editable": false,
    "id": "esN8qRHkItPG",
    "nbgrader": {
     "checksum": "51be56b978a555a682bd1a02d85a7434",
     "grade": false,
     "grade_id": "cell-63034c0f0a81dc85",
     "locked": true,
     "schema_version": 1,
     "solution": false
    }
   },
   "source": [
    "**Q1: What was the highest number of reviews for any one business_id?**\n",
    "- For this task, we will need to group the reviews dataset by business_id. This will aggregate data for each business, which is what we need. This can be done using [groupby](https://pandas.pydata.org/pandas-docs/stable/generated/pandas.DataFrame.groupby.html).\n",
    "    - ```yelp_businesses = yelp_dataset.groupby('business_id').size() ```\n",
    "    - The .size() counts the number of instances for each business_id, which gives us the number of reviews as each instance in this dataset is a review.\n",
    "    - The following command will sort this list, after which you can take note of the highest value: ```sorted_yelp_businesses = yelp_businesses.sort_values(ascending=False, inplace=False)```\n",
    "    - This approach allows you to see the data structure being used in the sort. A quicker approach to getting the max would be to use the max function: ```max(yelp_businesses)```\n",
    "<br>\n",
    "<br>"
   ]
  },
  {
   "cell_type": "code",
   "execution_count": 63,
   "metadata": {
    "deletable": false,
    "id": "AbKk0rohItPG",
    "nbgrader": {
     "checksum": "a4b3a58ab839a93b83e514e1db0c11e3",
     "grade": false,
     "grade_id": "cell-b9fd95d084732ea0",
     "locked": false,
     "schema_version": 1,
     "solution": true
    }
   },
   "outputs": [],
   "source": [
    "#Make sure you return the answer value in this function\n",
    "def q1(df):\n",
    "    business_size = df.groupby('business_id').size()\n",
    "    sorted = business_size.sort_values(ascending = False, inplace = False)\n",
    "    return max(sorted)\n",
    "    raise NotImplementedError()"
   ]
  },
  {
   "cell_type": "code",
   "execution_count": 64,
   "metadata": {
    "colab": {
     "base_uri": "https://localhost:8080/"
    },
    "deletable": false,
    "editable": false,
    "id": "rzD83og_ItPJ",
    "nbgrader": {
     "checksum": "e989434a5e20d93eb1500308f7ecf163",
     "grade": true,
     "grade_id": "cell-1d1402069f0f336b",
     "locked": true,
     "points": 0.5,
     "schema_version": 1,
     "solution": false
    },
    "outputId": "36bd3c62-fdd9-496f-8e6a-296a499801a5"
   },
   "outputs": [
    {
     "name": "stdout",
     "output_type": "stream",
     "text": [
      "4128\n"
     ]
    }
   ],
   "source": [
    "#This is an autograded cell, do not edit\n",
    "print(q1(df))\n"
   ]
  },
  {
   "cell_type": "markdown",
   "metadata": {
    "deletable": false,
    "editable": false,
    "id": "fZ_McPZ-ItPL",
    "nbgrader": {
     "checksum": "6cde0278ab840df1fb90b16ca8c14a8a",
     "grade": false,
     "grade_id": "cell-c998b50208612779",
     "locked": true,
     "schema_version": 1,
     "solution": false
    }
   },
   "source": [
    "**Q2: What was the average number of reviews for a business_id?**"
   ]
  },
  {
   "cell_type": "code",
   "execution_count": 6,
   "metadata": {
    "deletable": false,
    "id": "0V-m-GMAItPM",
    "nbgrader": {
     "checksum": "6ff0153f15cd01aa6d958646c22cd2eb",
     "grade": false,
     "grade_id": "cell-bda529e7277d1978",
     "locked": false,
     "schema_version": 1,
     "solution": true
    }
   },
   "outputs": [],
   "source": [
    "#Make sure you return the answer value in this function\n",
    "def q2(df):\n",
    "    \n",
    "    return np.mean(q1(df))\n",
    "    raise NotImplementedError()"
   ]
  },
  {
   "cell_type": "code",
   "execution_count": 7,
   "metadata": {
    "colab": {
     "base_uri": "https://localhost:8080/"
    },
    "deletable": false,
    "editable": false,
    "id": "V_9IXDmvItPO",
    "nbgrader": {
     "checksum": "72d8375074f6e5eb294215044c460696",
     "grade": true,
     "grade_id": "cell-febce0a51b6da9da",
     "locked": true,
     "points": 0.5,
     "schema_version": 1,
     "solution": false
    },
    "outputId": "608557e7-7962-429d-b9c5-770fc690fa21"
   },
   "outputs": [
    {
     "name": "stdout",
     "output_type": "stream",
     "text": [
      "12.63413902163123\n"
     ]
    }
   ],
   "source": [
    "#This is an autograded cell, do not edit\n",
    "print(q2(df))\n"
   ]
  },
  {
   "cell_type": "markdown",
   "metadata": {
    "deletable": false,
    "editable": false,
    "id": "T9bRVaYZItPQ",
    "nbgrader": {
     "checksum": "d6874779b6c6d2e361fc9891455b6960",
     "grade": false,
     "grade_id": "cell-a568a611d600caa2",
     "locked": true,
     "schema_version": 1,
     "solution": false
    }
   },
   "source": [
    "**Q3: What is the average number of reviews per reviewer?**"
   ]
  },
  {
   "cell_type": "code",
   "execution_count": 8,
   "metadata": {
    "deletable": false,
    "id": "J58jfsKTItPQ",
    "nbgrader": {
     "checksum": "369c594937118aa98e0aea635c345943",
     "grade": false,
     "grade_id": "cell-f92e05c4b7a28174",
     "locked": false,
     "schema_version": 1,
     "solution": true
    }
   },
   "outputs": [],
   "source": [
    "#Make sure you return the answer value in this function\n",
    "\n",
    "\n",
    "def q3(df):\n",
    "    \n",
    "    return yelp_reviews.groupby('user_id').size().mean()\n",
    "    raise NotImplementedError()"
   ]
  },
  {
   "cell_type": "code",
   "execution_count": 9,
   "metadata": {
    "colab": {
     "base_uri": "https://localhost:8080/"
    },
    "deletable": false,
    "editable": false,
    "id": "Wx5wcx6pItPT",
    "nbgrader": {
     "checksum": "7ed7ddd4ec46674bdd89445dc1034175",
     "grade": true,
     "grade_id": "cell-d76279e8e7d4a79f",
     "locked": true,
     "points": 0.5,
     "schema_version": 1,
     "solution": false
    },
    "outputId": "3c20f482-7e24-46de-fabd-0d0a4586402e"
   },
   "outputs": [
    {
     "name": "stdout",
     "output_type": "stream",
     "text": [
      "3.188511934933203\n"
     ]
    }
   ],
   "source": [
    "#This is an autograded cell, do not edit\n",
    "print(q3(df))\n"
   ]
  },
  {
   "cell_type": "markdown",
   "metadata": {
    "deletable": false,
    "editable": false,
    "id": "oa0doTGiItPW",
    "nbgrader": {
     "checksum": "e8d5fd42acde59c3bd19cc07db76ac1c",
     "grade": false,
     "grade_id": "cell-c76f8dc8692f2472",
     "locked": true,
     "schema_version": 1,
     "solution": false
    }
   },
   "source": [
    "**Q4: Calculate the total cool votes per reviewer, then average these totals across reviewers.**"
   ]
  },
  {
   "cell_type": "code",
   "execution_count": 67,
   "metadata": {
    "deletable": false,
    "id": "sWuWYjrSItPX",
    "nbgrader": {
     "checksum": "2db144055be1d1f506af2bbdcf924e58",
     "grade": false,
     "grade_id": "cell-f06192fbabe75195",
     "locked": false,
     "schema_version": 1,
     "solution": true
    }
   },
   "outputs": [],
   "source": [
    "#Make sure you return the answer value in this function\n",
    "def q4(df):\n",
    "    \n",
    "    to_return = yelp_reviews.groupby('user_id').sum()['cool_votes']\n",
    "    return to_return.mean()\n",
    "    raise NotImplementedError()"
   ]
  },
  {
   "cell_type": "code",
   "execution_count": 68,
   "metadata": {
    "colab": {
     "base_uri": "https://localhost:8080/"
    },
    "deletable": false,
    "editable": false,
    "id": "z3o9lMo-ItPZ",
    "nbgrader": {
     "checksum": "70b555da34836694349c4923beb1950b",
     "grade": true,
     "grade_id": "cell-cabbe00e6fee304e",
     "locked": true,
     "points": 0.5,
     "schema_version": 1,
     "solution": false
    },
    "outputId": "ea822409-871d-49fa-a7a1-c96e4821cca1"
   },
   "outputs": [
    {
     "name": "stdout",
     "output_type": "stream",
     "text": [
      "1.2417282785380945\n"
     ]
    }
   ],
   "source": [
    "#This is an autograded cell, do not edit\n",
    "print(q4(df))\n"
   ]
  },
  {
   "cell_type": "markdown",
   "metadata": {
    "deletable": false,
    "editable": false,
    "id": "fDD4Lh8fItPb",
    "nbgrader": {
     "checksum": "1e80dfdd5311c1dd540fafe446ad10c3",
     "grade": false,
     "grade_id": "cell-9e278b8cd31ace62",
     "locked": true,
     "schema_version": 1,
     "solution": false
    }
   },
   "source": [
    "**Q5: Calculate the total funny votes per reviewer, then average these totals across reviewers.**"
   ]
  },
  {
   "cell_type": "code",
   "execution_count": 69,
   "metadata": {
    "deletable": false,
    "id": "KiVt8qB7ItPc",
    "nbgrader": {
     "checksum": "cb6393f6479792516d064ab368490d90",
     "grade": false,
     "grade_id": "cell-93635f0a6f297df9",
     "locked": false,
     "schema_version": 1,
     "solution": true
    }
   },
   "outputs": [],
   "source": [
    "#Make sure you return the answer value in this function\n",
    "def q5(df):\n",
    "    \n",
    "    to_return = yelp_reviews.groupby('user_id').sum()['funny_votes']\n",
    "    return to_return.mean()\n",
    "    raise NotImplementedError()"
   ]
  },
  {
   "cell_type": "code",
   "execution_count": 70,
   "metadata": {
    "colab": {
     "base_uri": "https://localhost:8080/"
    },
    "deletable": false,
    "editable": false,
    "id": "bWzUljWAItPe",
    "nbgrader": {
     "checksum": "d3be5fcefa0f798be6504de7f8f1b344",
     "grade": true,
     "grade_id": "cell-4c41413214d2d4f1",
     "locked": true,
     "points": 0.5,
     "schema_version": 1,
     "solution": false
    },
    "outputId": "f94a3fd5-aabc-44bb-83a0-abf0b7dcec27"
   },
   "outputs": [
    {
     "name": "stdout",
     "output_type": "stream",
     "text": [
      "1.10126486404605\n"
     ]
    }
   ],
   "source": [
    "#This is an autograded cell, do not edit\n",
    "print(q5(df))\n"
   ]
  },
  {
   "cell_type": "markdown",
   "metadata": {
    "deletable": false,
    "editable": false,
    "id": "qx0rBKw9ItPg",
    "nbgrader": {
     "checksum": "e62dd2a28323b8d943f63dda321c3aea",
     "grade": false,
     "grade_id": "cell-9554ed7bdee76fb1",
     "locked": true,
     "schema_version": 1,
     "solution": false
    }
   },
   "source": [
    "**Q6: Calculate the total useful votes per reviewer, then average these totals across reviewers.**"
   ]
  },
  {
   "cell_type": "code",
   "execution_count": 71,
   "metadata": {
    "deletable": false,
    "id": "KIYaRM3uItPh",
    "nbgrader": {
     "checksum": "4375ea8e9efa96b5ea65a2f4f553faad",
     "grade": false,
     "grade_id": "cell-2cebd87b7f8b37d1",
     "locked": false,
     "schema_version": 1,
     "solution": true
    }
   },
   "outputs": [],
   "source": [
    "#Make sure you return the answer in this function\n",
    "def q6(df):\n",
    "    \n",
    "    to_return = yelp_reviews.groupby('user_id').sum()['useful_votes']\n",
    "    return to_return.mean()\n",
    "    raise NotImplementedError()"
   ]
  },
  {
   "cell_type": "code",
   "execution_count": 72,
   "metadata": {
    "colab": {
     "base_uri": "https://localhost:8080/"
    },
    "deletable": false,
    "editable": false,
    "id": "xrNe4FWdItPj",
    "nbgrader": {
     "checksum": "2435ef28744576ab65e21558b65e0a5e",
     "grade": true,
     "grade_id": "cell-1a546329acbcd0e4",
     "locked": true,
     "points": 0.5,
     "schema_version": 1,
     "solution": false
    },
    "outputId": "6bd82283-8d3b-4555-f7f9-210265da2a14"
   },
   "outputs": [
    {
     "name": "stdout",
     "output_type": "stream",
     "text": [
      "2.484476138872867\n"
     ]
    }
   ],
   "source": [
    "#This is an autograded cell, do not edit\n",
    "print(q6(df))\n"
   ]
  },
  {
   "cell_type": "markdown",
   "metadata": {
    "deletable": false,
    "editable": false,
    "id": "yUBt7rj9ItP-",
    "nbgrader": {
     "checksum": "560323764f6c0effd9615228a4dd9537",
     "grade": false,
     "grade_id": "cell-328aa1a4c9a958d8",
     "locked": true,
     "schema_version": 1,
     "solution": false
    }
   },
   "source": [
    "**Q7: On average, what percentage of a reviewer's votes are cool votes?**\n",
    "\n",
    "(hint1: calculate the percentage of cool votes for each reviewer, then average across reviewers)\n",
    "\n",
    "(hint2: you should discard reviewers who have zero total votes from your calculation)"
   ]
  },
  {
   "cell_type": "code",
   "execution_count": 16,
   "metadata": {
    "deletable": false,
    "id": "LuFzcyytItP-",
    "nbgrader": {
     "checksum": "c4ca0edbf727b2adc41527ebb2129cef",
     "grade": false,
     "grade_id": "cell-54fe5dd9777347a1",
     "locked": false,
     "schema_version": 1,
     "solution": true
    }
   },
   "outputs": [],
   "source": [
    "#Make sure you return the answer in this function\n",
    "#Remember to multiply by 100 for percentages\n",
    "def q7(df):\n",
    "    \n",
    "    grouped_7 = yelp_reviews.drop(columns = 'stars').groupby('user_id').sum()\n",
    "    grouped_7['total_votes'] = grouped_7.sum(axis=1)\n",
    "    grouped_7 = grouped_7.loc[(grouped_7 != 0).any(1)]\n",
    "    grouped_7['cool_percentage'] = grouped_7['cool_votes'] / grouped_7['total_votes']\n",
    "    return np.mean(grouped_7['cool_percentage']*100)\n",
    "    raise NotImplementedError()"
   ]
  },
  {
   "cell_type": "code",
   "execution_count": 17,
   "metadata": {
    "colab": {
     "base_uri": "https://localhost:8080/"
    },
    "deletable": false,
    "editable": false,
    "id": "ftY6isjeItQA",
    "nbgrader": {
     "checksum": "6ba2d96b43cc0796b9c8ec31e17fefe9",
     "grade": true,
     "grade_id": "cell-594b1121d785d15e",
     "locked": true,
     "points": 0.5,
     "schema_version": 1,
     "solution": false
    },
    "outputId": "f61ef37f-61c1-443d-da40-bf3adbed03a0"
   },
   "outputs": [
    {
     "name": "stdout",
     "output_type": "stream",
     "text": [
      "19.27\n"
     ]
    }
   ],
   "source": [
    "#This is an autograded cell, do not edit\n",
    "#Remember to multiply by 100 for percentages\n",
    "print(round(q7(df),2))\n"
   ]
  },
  {
   "cell_type": "markdown",
   "metadata": {
    "deletable": false,
    "editable": false,
    "id": "zKe8LJJLItQC",
    "nbgrader": {
     "checksum": "f7ca49268591f6d357d5e4d4be17e3c9",
     "grade": false,
     "grade_id": "cell-8b434399df89705e",
     "locked": true,
     "schema_version": 1,
     "solution": false
    }
   },
   "source": [
    "**Q8: On average, what percentage of a reviewer's votes are funny votes?**\n",
    "\n",
    "(hint1: calculate the percentage of funny votes for each reviewer, then average across reviewers)\n",
    "\n",
    "(hint2: you should discard reviewers who have zero total votes from your calculation)"
   ]
  },
  {
   "cell_type": "code",
   "execution_count": 18,
   "metadata": {
    "deletable": false,
    "id": "DkXVxKdXItQC",
    "nbgrader": {
     "checksum": "b869bd5447e8ea81d0af3cae06012b94",
     "grade": false,
     "grade_id": "cell-a3dc739b16a53957",
     "locked": false,
     "schema_version": 1,
     "solution": true
    }
   },
   "outputs": [],
   "source": [
    "#Make sure you return the answer in this function\n",
    "#Remember to multiply by 100 for percentages\n",
    "def q8(df):\n",
    "    \n",
    "    grouped_8 = yelp_reviews.drop(columns = 'stars').groupby('user_id').sum()\n",
    "    grouped_8['total_votes'] = grouped_8.sum(axis=1)\n",
    "    grouped_8 = grouped_8.loc[(grouped_8 != 0).any(1)]\n",
    "    grouped_8['funny_percentage'] = grouped_8['funny_votes'] / grouped_8['total_votes']\n",
    "    return np.mean(grouped_8['funny_percentage']*100)\n",
    "    raise NotImplementedError()"
   ]
  },
  {
   "cell_type": "code",
   "execution_count": 19,
   "metadata": {
    "colab": {
     "base_uri": "https://localhost:8080/"
    },
    "deletable": false,
    "editable": false,
    "id": "q6uEzM9HItQE",
    "nbgrader": {
     "checksum": "2ef3655caaaedc3e433262c7db94fb77",
     "grade": true,
     "grade_id": "cell-e7fdee0fd548baf1",
     "locked": true,
     "points": 0.5,
     "schema_version": 1,
     "solution": false
    },
    "outputId": "403f3e98-9488-41e0-b78a-115de5b7995c"
   },
   "outputs": [
    {
     "name": "stdout",
     "output_type": "stream",
     "text": [
      "18.26\n"
     ]
    }
   ],
   "source": [
    "#This is an autograded cell, do not edit\n",
    "print(round(q8(df),2))\n"
   ]
  },
  {
   "cell_type": "markdown",
   "metadata": {
    "deletable": false,
    "editable": false,
    "id": "wYs2eqhSItQI",
    "nbgrader": {
     "checksum": "3ce1c8eefc6053b8515dc4218c5a0afb",
     "grade": false,
     "grade_id": "cell-40cd96c922286117",
     "locked": true,
     "schema_version": 1,
     "solution": false
    }
   },
   "source": [
    "**Q9: On average, what percentage of a reviewer's votes are useful votes?**\n",
    "\n",
    "(hint1: calculate the percentage of useful votes for each reviewer, then average across reviewers)\n",
    "\n",
    "(hint2: you should discard reviewers who have zero total votes from your calculation)"
   ]
  },
  {
   "cell_type": "code",
   "execution_count": 20,
   "metadata": {
    "deletable": false,
    "id": "56CBDjgrItQI",
    "nbgrader": {
     "checksum": "c8e322eafbf209672785a2c9f7c97f52",
     "grade": false,
     "grade_id": "cell-38769f4cbbe9cb8f",
     "locked": false,
     "schema_version": 1,
     "solution": true
    }
   },
   "outputs": [],
   "source": [
    "#Make sure you return the answer in this function\n",
    "def q9(df):\n",
    "    \n",
    "    grouped_9 = yelp_reviews.drop(columns = 'stars').groupby('user_id').sum()\n",
    "    grouped_9['total_votes'] = grouped_9.sum(axis=1)\n",
    "    grouped_9 = grouped_9.loc[(grouped_9 != 0).any(1)]\n",
    "    grouped_9['useful_percentage'] = grouped_9['useful_votes'] / grouped_9['total_votes']\n",
    "    return np.mean(grouped_9['useful_percentage']*100)\n",
    "    raise NotImplementedError()"
   ]
  },
  {
   "cell_type": "code",
   "execution_count": 21,
   "metadata": {
    "colab": {
     "base_uri": "https://localhost:8080/"
    },
    "deletable": false,
    "editable": false,
    "id": "LvE8ZWSOItQL",
    "nbgrader": {
     "checksum": "d3aeca2366b4c12d564167261c6bc6a2",
     "grade": true,
     "grade_id": "cell-590fb1425068cc06",
     "locked": true,
     "points": 0.5,
     "schema_version": 1,
     "solution": false
    },
    "outputId": "1af3ae50-2a56-4915-fae7-b83ffc037fca"
   },
   "outputs": [
    {
     "name": "stdout",
     "output_type": "stream",
     "text": [
      "62.47\n"
     ]
    }
   ],
   "source": [
    "#This is an autograded cell, do not edit\n",
    "print(round(q9(df),2))\n"
   ]
  },
  {
   "cell_type": "markdown",
   "metadata": {
    "deletable": false,
    "editable": false,
    "id": "2ixankjPItQO",
    "nbgrader": {
     "checksum": "2efdbde3ea13f0e1829d7488da2c6d92",
     "grade": false,
     "grade_id": "cell-615a3d7b2c4e0e26",
     "locked": true,
     "schema_version": 1,
     "solution": false
    }
   },
   "source": [
    "**Q10: Average review text length (in non-space characters)**"
   ]
  },
  {
   "cell_type": "code",
   "execution_count": 22,
   "metadata": {
    "deletable": false,
    "id": "qgwHiHaVItQP",
    "nbgrader": {
     "checksum": "59cc81340d9a1967bd6d3a0ffcacdcf3",
     "grade": false,
     "grade_id": "cell-75ec15303c64c506",
     "locked": false,
     "schema_version": 1,
     "solution": true
    }
   },
   "outputs": [],
   "source": [
    "#Make sure you return the answer in this function\n",
    "def q10(df):\n",
    "    \n",
    "    return np.mean(yelp_reviews['text'].str.replace(\" \", \"\").str.len())\n",
    "    raise NotImplementedError()"
   ]
  },
  {
   "cell_type": "code",
   "execution_count": 23,
   "metadata": {
    "colab": {
     "base_uri": "https://localhost:8080/"
    },
    "deletable": false,
    "editable": false,
    "id": "_XmxRXdFItQQ",
    "nbgrader": {
     "checksum": "083e5ff6b77629d8784b8f6a30352251",
     "grade": true,
     "grade_id": "cell-d9fb4fc39a0b21c4",
     "locked": true,
     "points": 1,
     "schema_version": 1,
     "solution": false
    },
    "outputId": "b7f149d1-3512-40ff-96aa-47ac27c2e554"
   },
   "outputs": [
    {
     "name": "stdout",
     "output_type": "stream",
     "text": [
      "499.0\n"
     ]
    }
   ],
   "source": [
    "#This is an autograded cell, do not edit\n",
    "print(round(q10(df),0))\n"
   ]
  },
  {
   "cell_type": "markdown",
   "metadata": {
    "deletable": false,
    "editable": false,
    "id": "03gWN2PAItQS",
    "nbgrader": {
     "checksum": "54c8c584ece619ea786165e50a4e1002",
     "grade": false,
     "grade_id": "cell-a21a423546eb8654",
     "locked": true,
     "schema_version": 1,
     "solution": false
    }
   },
   "source": [
    "**Q11: Year in which the reviewer wrote the most reviews. Once you have this for each reviewer, subtract the minimum possible year (2004) from each so that your final feature values are 0, 1, 2 etc.**"
   ]
  },
  {
   "cell_type": "code",
   "execution_count": 82,
   "metadata": {
    "colab": {
     "base_uri": "https://localhost:8080/",
     "height": 521
    },
    "id": "vFPs2b9-L14g",
    "outputId": "8971a9df-1b10-4061-813a-64781c1ab4cd"
   },
   "outputs": [
    {
     "name": "stderr",
     "output_type": "stream",
     "text": [
      "/usr/local/lib/python3.7/dist-packages/ipykernel_launcher.py:5: SettingWithCopyWarning: \n",
      "A value is trying to be set on a copy of a slice from a DataFrame.\n",
      "Try using .loc[row_indexer,col_indexer] = value instead\n",
      "\n",
      "See the caveats in the documentation: https://pandas.pydata.org/pandas-docs/stable/user_guide/indexing.html#returning-a-view-versus-a-copy\n",
      "  \"\"\"\n"
     ]
    },
    {
     "data": {
      "text/html": [
       "<div>\n",
       "<style scoped>\n",
       "    .dataframe tbody tr th:only-of-type {\n",
       "        vertical-align: middle;\n",
       "    }\n",
       "\n",
       "    .dataframe tbody tr th {\n",
       "        vertical-align: top;\n",
       "    }\n",
       "\n",
       "    .dataframe thead th {\n",
       "        text-align: right;\n",
       "    }\n",
       "</style>\n",
       "<table border=\"1\" class=\"dataframe\">\n",
       "  <thead>\n",
       "    <tr style=\"text-align: right;\">\n",
       "      <th></th>\n",
       "      <th>user_id</th>\n",
       "      <th>#_years_since_2004</th>\n",
       "    </tr>\n",
       "  </thead>\n",
       "  <tbody>\n",
       "    <tr>\n",
       "      <th>123416</th>\n",
       "      <td>Uvl2qnmbTd9j0S5t4LbRFw</td>\n",
       "      <td>12</td>\n",
       "    </tr>\n",
       "    <tr>\n",
       "      <th>90691</th>\n",
       "      <td>MOYheKej0lRDwUOCiW8PGQ</td>\n",
       "      <td>12</td>\n",
       "    </tr>\n",
       "    <tr>\n",
       "      <th>208302</th>\n",
       "      <td>q-Z1q2fMPGT13NauBZlmHA</td>\n",
       "      <td>12</td>\n",
       "    </tr>\n",
       "    <tr>\n",
       "      <th>156175</th>\n",
       "      <td>cQdF3B3QINa7VegReuHP_w</td>\n",
       "      <td>12</td>\n",
       "    </tr>\n",
       "    <tr>\n",
       "      <th>90672</th>\n",
       "      <td>MO1X5oItuWM9Ut3EbFhC4Q</td>\n",
       "      <td>12</td>\n",
       "    </tr>\n",
       "    <tr>\n",
       "      <th>...</th>\n",
       "      <td>...</td>\n",
       "      <td>...</td>\n",
       "    </tr>\n",
       "    <tr>\n",
       "      <th>113414</th>\n",
       "      <td>SIBCL7HBkrP4llolm4SC2A</td>\n",
       "      <td>0</td>\n",
       "    </tr>\n",
       "    <tr>\n",
       "      <th>36435</th>\n",
       "      <td>8VJUJbrfPYJC0vMAtXGR_g</td>\n",
       "      <td>0</td>\n",
       "    </tr>\n",
       "    <tr>\n",
       "      <th>167081</th>\n",
       "      <td>fHtTaujcyKvXglE33Z5yIw</td>\n",
       "      <td>0</td>\n",
       "    </tr>\n",
       "    <tr>\n",
       "      <th>35724</th>\n",
       "      <td>8J4IIYcqBlFch8T90N923A</td>\n",
       "      <td>0</td>\n",
       "    </tr>\n",
       "    <tr>\n",
       "      <th>8349</th>\n",
       "      <td>18kPq7GPye-YQ3LyKyAZPw</td>\n",
       "      <td>0</td>\n",
       "    </tr>\n",
       "  </tbody>\n",
       "</table>\n",
       "<p>171639 rows × 2 columns</p>\n",
       "</div>"
      ],
      "text/plain": [
       "                       user_id  #_years_since_2004\n",
       "123416  Uvl2qnmbTd9j0S5t4LbRFw                  12\n",
       "90691   MOYheKej0lRDwUOCiW8PGQ                  12\n",
       "208302  q-Z1q2fMPGT13NauBZlmHA                  12\n",
       "156175  cQdF3B3QINa7VegReuHP_w                  12\n",
       "90672   MO1X5oItuWM9Ut3EbFhC4Q                  12\n",
       "...                        ...                 ...\n",
       "113414  SIBCL7HBkrP4llolm4SC2A                   0\n",
       "36435   8VJUJbrfPYJC0vMAtXGR_g                   0\n",
       "167081  fHtTaujcyKvXglE33Z5yIw                   0\n",
       "35724   8J4IIYcqBlFch8T90N923A                   0\n",
       "8349    18kPq7GPye-YQ3LyKyAZPw                   0\n",
       "\n",
       "[171639 rows x 2 columns]"
      ]
     },
     "execution_count": 82,
     "metadata": {},
     "output_type": "execute_result"
    }
   ],
   "source": [
    "yelp_reviews['year'] = yelp_reviews['date'].str.split('-').str[0]\n",
    "yelp_grouped = yelp_reviews.groupby(['user_id', 'year']).size().reset_index()\n",
    "yelp_most_reviews = yelp_grouped.sort_values(['user_id', 0], ascending = False);\n",
    "most_reviews_grouped = yelp_most_reviews.groupby('user_id').head(1)\n",
    "most_reviews_grouped['#_years_since_2004'] = most_reviews_grouped['year'].astype(int) - 2004\n",
    "most_reviews_grouped\n",
    "to_return = most_reviews_grouped.drop(axis=0, columns = {'year', 0})\n",
    "to_return.sort_values('#_years_since_2004', ascending = False)\n",
    "##raise NotImplementedError()"
   ]
  },
  {
   "cell_type": "markdown",
   "metadata": {
    "deletable": false,
    "editable": false,
    "id": "waqvrQeDItQV",
    "nbgrader": {
     "checksum": "93f7e9ef2385bdac5184802eb7e1ce75",
     "grade": false,
     "grade_id": "cell-da33d981591f0ff3",
     "locked": true,
     "schema_version": 1,
     "solution": false
    }
   },
   "source": [
    "**Q12: Come up with a new feature for every review. This may be derived from existing features.\n",
    "Give your feature the name *my_new_feature.* Display head() of this new feature.**"
   ]
  },
  {
   "cell_type": "code",
   "execution_count": 83,
   "metadata": {
    "colab": {
     "base_uri": "https://localhost:8080/",
     "height": 289
    },
    "deletable": false,
    "id": "j3TZ3TD2ItQW",
    "nbgrader": {
     "checksum": "787d48b01fdbfeab0810cceb64c1abb3",
     "grade": true,
     "grade_id": "cell-09bbdc6a2946b441",
     "locked": false,
     "points": 1,
     "schema_version": 1,
     "solution": true
    },
    "outputId": "3bad4b54-c56e-490b-97eb-e178775dbf7e"
   },
   "outputs": [
    {
     "data": {
      "text/html": [
       "<div>\n",
       "<style scoped>\n",
       "    .dataframe tbody tr th:only-of-type {\n",
       "        vertical-align: middle;\n",
       "    }\n",
       "\n",
       "    .dataframe tbody tr th {\n",
       "        vertical-align: top;\n",
       "    }\n",
       "\n",
       "    .dataframe thead th {\n",
       "        text-align: right;\n",
       "    }\n",
       "</style>\n",
       "<table border=\"1\" class=\"dataframe\">\n",
       "  <thead>\n",
       "    <tr style=\"text-align: right;\">\n",
       "      <th></th>\n",
       "      <th>type</th>\n",
       "      <th>business_id</th>\n",
       "      <th>user_id</th>\n",
       "      <th>stars</th>\n",
       "      <th>text</th>\n",
       "      <th>date</th>\n",
       "      <th>cool_votes</th>\n",
       "      <th>useful_votes</th>\n",
       "      <th>funny_votes</th>\n",
       "      <th>lower_text</th>\n",
       "      <th>my_new_feature</th>\n",
       "    </tr>\n",
       "  </thead>\n",
       "  <tbody>\n",
       "    <tr>\n",
       "      <th>0</th>\n",
       "      <td>review</td>\n",
       "      <td>mxrXVZWc6PWk81gvOVNOUw</td>\n",
       "      <td>mv7shusL4Xb6TylVYBv4CA</td>\n",
       "      <td>4</td>\n",
       "      <td>Definitely try the duck dish.   I rank it amon...</td>\n",
       "      <td>2011-06-13</td>\n",
       "      <td>0</td>\n",
       "      <td>0</td>\n",
       "      <td>0</td>\n",
       "      <td>definitely try the duck dish.   i rank it amon...</td>\n",
       "      <td>False</td>\n",
       "    </tr>\n",
       "    <tr>\n",
       "      <th>1</th>\n",
       "      <td>review</td>\n",
       "      <td>mxrXVZWc6PWk81gvOVNOUw</td>\n",
       "      <td>0aN5QPhs-VwK2vusKG0waQ</td>\n",
       "      <td>5</td>\n",
       "      <td>Big Ass Burger was awesome! Great $5 mojitos. ...</td>\n",
       "      <td>2011-06-25</td>\n",
       "      <td>1</td>\n",
       "      <td>0</td>\n",
       "      <td>0</td>\n",
       "      <td>big ass burger was awesome! great $5 mojitos. ...</td>\n",
       "      <td>True</td>\n",
       "    </tr>\n",
       "    <tr>\n",
       "      <th>2</th>\n",
       "      <td>review</td>\n",
       "      <td>kK4AzZ0YWI-U2G-paAL7Fg</td>\n",
       "      <td>0aN5QPhs-VwK2vusKG0waQ</td>\n",
       "      <td>5</td>\n",
       "      <td>Unbelievable sandwiches! Good service.</td>\n",
       "      <td>2011-06-25</td>\n",
       "      <td>0</td>\n",
       "      <td>0</td>\n",
       "      <td>0</td>\n",
       "      <td>unbelievable sandwiches! good service.</td>\n",
       "      <td>False</td>\n",
       "    </tr>\n",
       "    <tr>\n",
       "      <th>3</th>\n",
       "      <td>review</td>\n",
       "      <td>mxrXVZWc6PWk81gvOVNOUw</td>\n",
       "      <td>1JUwyYab-uJzEx_FRd81Zg</td>\n",
       "      <td>5</td>\n",
       "      <td>Awesome, awesome, awesome! My mom and sister a...</td>\n",
       "      <td>2011-07-18</td>\n",
       "      <td>1</td>\n",
       "      <td>1</td>\n",
       "      <td>0</td>\n",
       "      <td>awesome, awesome, awesome! my mom and sister a...</td>\n",
       "      <td>False</td>\n",
       "    </tr>\n",
       "    <tr>\n",
       "      <th>4</th>\n",
       "      <td>review</td>\n",
       "      <td>mxrXVZWc6PWk81gvOVNOUw</td>\n",
       "      <td>2Zd3Xy8hUVmZkNg7RyNjhg</td>\n",
       "      <td>4</td>\n",
       "      <td>I had the ribs they were great.  The beer sele...</td>\n",
       "      <td>2011-07-19</td>\n",
       "      <td>1</td>\n",
       "      <td>0</td>\n",
       "      <td>1</td>\n",
       "      <td>i had the ribs they were great.  the beer sele...</td>\n",
       "      <td>False</td>\n",
       "    </tr>\n",
       "  </tbody>\n",
       "</table>\n",
       "</div>"
      ],
      "text/plain": [
       "     type  ... my_new_feature\n",
       "0  review  ...          False\n",
       "1  review  ...           True\n",
       "2  review  ...          False\n",
       "3  review  ...          False\n",
       "4  review  ...          False\n",
       "\n",
       "[5 rows x 11 columns]"
      ]
     },
     "execution_count": 83,
     "metadata": {},
     "output_type": "execute_result"
    }
   ],
   "source": [
    "new_features = yelp_reviews.drop(axis=0, columns='year',)\n",
    "new_features['lower_text'] = new_features['text'].str.lower()\n",
    "new_features['my_new_feature'] = new_features['lower_text'].str.contains('burger')\n",
    "new_features.head()\n",
    "\n",
    "## My feature uses the 'text' column to see whether the business being reviewed sells burgers. I first created a column that lowercased all of the\n",
    "## text in the 'text' column using .str.lower(). Then I used str.contains('burger') to see if the review contained the word 'burger'. Using that\n",
    "## information, I was able to determine whether the business sells burgers or not. "
   ]
  },
  {
   "cell_type": "code",
   "execution_count": null,
   "metadata": {
    "id": "60ONg9Xmh_Nv"
   },
   "outputs": [],
   "source": []
  }
 ],
 "metadata": {
  "colab": {
   "collapsed_sections": [],
   "name": "PARK_JUN_Lab1",
   "provenance": []
  },
  "kernelspec": {
   "display_name": "Python 3 (ipykernel)",
   "language": "python",
   "name": "python3"
  },
  "language_info": {
   "codemirror_mode": {
    "name": "ipython",
    "version": 3
   },
   "file_extension": ".py",
   "mimetype": "text/x-python",
   "name": "python",
   "nbconvert_exporter": "python",
   "pygments_lexer": "ipython3",
   "version": "3.9.9"
  }
 },
 "nbformat": 4,
 "nbformat_minor": 1
}

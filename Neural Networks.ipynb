{
 "cells": [
  {
   "cell_type": "markdown",
   "metadata": {
    "id": "1xxMXNDF7ckw"
   },
   "source": [
    "\n",
    "\n",
    "```\n",
    "# This is formatted as code\n",
    "```\n",
    "\n",
    "# DMA Fall 21\n",
    "\n",
    "**Note** : This entire lab will be manually evaluated.\n",
    "\n",
    "Name : 'Jun Park'\n",
    "Collaborator : ''"
   ]
  },
  {
   "cell_type": "markdown",
   "metadata": {
    "id": "Oyb_RNpFreOr"
   },
   "source": [
    "# Lab 4: Neural Networks #\n"
   ]
  },
  {
   "cell_type": "code",
   "execution_count": 1,
   "metadata": {
    "id": "yj9Uh79ereOs"
   },
   "outputs": [],
   "source": [
    "import pandas as pd\n",
    "from sklearn.neural_network import MLPClassifier\n",
    "from sklearn.svm import SVC\n",
    "\n",
    "from sklearn.preprocessing import StandardScaler, MinMaxScaler\n",
    "from sklearn.preprocessing import LabelEncoder, OneHotEncoder\n",
    "from sklearn.feature_extraction import DictVectorizer\n",
    "\n",
    "from sklearn.pipeline import Pipeline\n",
    "from sklearn.metrics import accuracy_score\n",
    "from sklearn.model_selection import train_test_split\n",
    "from sklearn.model_selection import GridSearchCV, ParameterGrid\n",
    "\n",
    "import numpy as np\n",
    "\n",
    "import warnings\n",
    "warnings.filterwarnings(\"ignore\")"
   ]
  },
  {
   "cell_type": "code",
   "execution_count": 2,
   "metadata": {
    "colab": {
     "base_uri": "https://localhost:8080/",
     "height": 578
    },
    "id": "n6SRFrhfreOt",
    "outputId": "be47926e-e0f3-400e-bfae-eeec246d8356"
   },
   "outputs": [
    {
     "name": "stdout",
     "output_type": "stream",
     "text": [
      "--2021-09-22 03:35:01--  http://askoski.berkeley.edu/~zp/lab_4_training.csv\n",
      "Resolving askoski.berkeley.edu (askoski.berkeley.edu)... 169.229.192.179\n",
      "Connecting to askoski.berkeley.edu (askoski.berkeley.edu)|169.229.192.179|:80... connected.\n",
      "HTTP request sent, awaiting response... 200 OK\n",
      "Length: 79177 (77K) [text/csv]\n",
      "Saving to: ‘lab_4_training.csv’\n",
      "\n",
      "lab_4_training.csv  100%[===================>]  77.32K  --.-KB/s    in 0.1s    \n",
      "\n",
      "2021-09-22 03:35:01 (788 KB/s) - ‘lab_4_training.csv’ saved [79177/79177]\n",
      "\n",
      "--2021-09-22 03:35:02--  http://askoski.berkeley.edu/~zp/lab_4_test.csv\n",
      "Resolving askoski.berkeley.edu (askoski.berkeley.edu)... 169.229.192.179\n",
      "Connecting to askoski.berkeley.edu (askoski.berkeley.edu)|169.229.192.179|:80... connected.\n",
      "HTTP request sent, awaiting response... 200 OK\n",
      "Length: 26519 (26K) [text/csv]\n",
      "Saving to: ‘lab_4_test.csv’\n",
      "\n",
      "lab_4_test.csv      100%[===================>]  25.90K   107KB/s    in 0.2s    \n",
      "\n",
      "2021-09-22 03:35:06 (107 KB/s) - ‘lab_4_test.csv’ saved [26519/26519]\n",
      "\n"
     ]
    },
    {
     "data": {
      "text/html": [
       "<div>\n",
       "<style scoped>\n",
       "    .dataframe tbody tr th:only-of-type {\n",
       "        vertical-align: middle;\n",
       "    }\n",
       "\n",
       "    .dataframe tbody tr th {\n",
       "        vertical-align: top;\n",
       "    }\n",
       "\n",
       "    .dataframe thead th {\n",
       "        text-align: right;\n",
       "    }\n",
       "</style>\n",
       "<table border=\"1\" class=\"dataframe\">\n",
       "  <thead>\n",
       "    <tr style=\"text-align: right;\">\n",
       "      <th></th>\n",
       "      <th>Unnamed: 0</th>\n",
       "      <th>gender</th>\n",
       "      <th>age</th>\n",
       "      <th>year</th>\n",
       "      <th>eyecolor</th>\n",
       "      <th>height</th>\n",
       "      <th>miles</th>\n",
       "      <th>brothers</th>\n",
       "      <th>sisters</th>\n",
       "      <th>computertime</th>\n",
       "      <th>exercise</th>\n",
       "      <th>exercisehours</th>\n",
       "      <th>musiccds</th>\n",
       "      <th>playgames</th>\n",
       "      <th>watchtv</th>\n",
       "    </tr>\n",
       "  </thead>\n",
       "  <tbody>\n",
       "    <tr>\n",
       "      <th>0</th>\n",
       "      <td>577</td>\n",
       "      <td>male</td>\n",
       "      <td>20</td>\n",
       "      <td>third</td>\n",
       "      <td>hazel</td>\n",
       "      <td>72.0</td>\n",
       "      <td>180.0</td>\n",
       "      <td>0</td>\n",
       "      <td>0</td>\n",
       "      <td>5.0</td>\n",
       "      <td>No</td>\n",
       "      <td>0.0</td>\n",
       "      <td>100.0</td>\n",
       "      <td>10.0</td>\n",
       "      <td>10.0</td>\n",
       "    </tr>\n",
       "    <tr>\n",
       "      <th>1</th>\n",
       "      <td>677</td>\n",
       "      <td>male</td>\n",
       "      <td>19</td>\n",
       "      <td>second</td>\n",
       "      <td>hazel</td>\n",
       "      <td>72.0</td>\n",
       "      <td>120.0</td>\n",
       "      <td>1</td>\n",
       "      <td>1</td>\n",
       "      <td>16.0</td>\n",
       "      <td>Yes</td>\n",
       "      <td>9.0</td>\n",
       "      <td>70.0</td>\n",
       "      <td>3.0</td>\n",
       "      <td>5.0</td>\n",
       "    </tr>\n",
       "    <tr>\n",
       "      <th>2</th>\n",
       "      <td>1738</td>\n",
       "      <td>male</td>\n",
       "      <td>20</td>\n",
       "      <td>second</td>\n",
       "      <td>brown</td>\n",
       "      <td>63.0</td>\n",
       "      <td>55.0</td>\n",
       "      <td>1</td>\n",
       "      <td>2</td>\n",
       "      <td>15.0</td>\n",
       "      <td>Yes</td>\n",
       "      <td>4.5</td>\n",
       "      <td>15.0</td>\n",
       "      <td>4.0</td>\n",
       "      <td>13.0</td>\n",
       "    </tr>\n",
       "    <tr>\n",
       "      <th>3</th>\n",
       "      <td>1355</td>\n",
       "      <td>male</td>\n",
       "      <td>20</td>\n",
       "      <td>third</td>\n",
       "      <td>green</td>\n",
       "      <td>78.0</td>\n",
       "      <td>200.0</td>\n",
       "      <td>0</td>\n",
       "      <td>0</td>\n",
       "      <td>10.0</td>\n",
       "      <td>Yes</td>\n",
       "      <td>9.0</td>\n",
       "      <td>20.0</td>\n",
       "      <td>10.0</td>\n",
       "      <td>10.0</td>\n",
       "    </tr>\n",
       "    <tr>\n",
       "      <th>4</th>\n",
       "      <td>891</td>\n",
       "      <td>female</td>\n",
       "      <td>19</td>\n",
       "      <td>second</td>\n",
       "      <td>green</td>\n",
       "      <td>67.0</td>\n",
       "      <td>280.0</td>\n",
       "      <td>2</td>\n",
       "      <td>0</td>\n",
       "      <td>4.0</td>\n",
       "      <td>Yes</td>\n",
       "      <td>2.0</td>\n",
       "      <td>164.0</td>\n",
       "      <td>0.0</td>\n",
       "      <td>2.0</td>\n",
       "    </tr>\n",
       "  </tbody>\n",
       "</table>\n",
       "</div>"
      ],
      "text/plain": [
       "   Unnamed: 0  gender  age    year eyecolor  height  miles  brothers  sisters  \\\n",
       "0         577    male   20   third    hazel    72.0  180.0         0        0   \n",
       "1         677    male   19  second    hazel    72.0  120.0         1        1   \n",
       "2        1738    male   20  second    brown    63.0   55.0         1        2   \n",
       "3        1355    male   20   third    green    78.0  200.0         0        0   \n",
       "4         891  female   19  second    green    67.0  280.0         2        0   \n",
       "\n",
       "   computertime exercise  exercisehours  musiccds  playgames  watchtv  \n",
       "0           5.0       No            0.0     100.0       10.0     10.0  \n",
       "1          16.0      Yes            9.0      70.0        3.0      5.0  \n",
       "2          15.0      Yes            4.5      15.0        4.0     13.0  \n",
       "3          10.0      Yes            9.0      20.0       10.0     10.0  \n",
       "4           4.0      Yes            2.0     164.0        0.0      2.0  "
      ]
     },
     "execution_count": 2,
     "metadata": {},
     "output_type": "execute_result"
    }
   ],
   "source": [
    "!wget http://askoski.berkeley.edu/~zp/lab_4_training.csv\n",
    "!wget http://askoski.berkeley.edu/~zp/lab_4_test.csv\n",
    "\n",
    "df_train = pd.read_csv('./lab_4_training.csv')\n",
    "df_test = pd.read_csv('./lab_4_test.csv')\n",
    "df_train.head()"
   ]
  },
  {
   "cell_type": "markdown",
   "metadata": {
    "id": "RGt_10ZAreOv"
   },
   "source": [
    "***\n",
    "### Question 1###\n",
    "Calculate a baseline accuracy measure using the majority class, assuming a target variable of 'gender'. The majority class is the most common value of the target variable in a particular dataset. Accuracy is calculated as (true positives + true negatives) / (all negatives and positives)"
   ]
  },
  {
   "cell_type": "markdown",
   "metadata": {
    "id": "UZPiLgekreOw"
   },
   "source": [
    "**Question 1.a**  \n",
    "Find the majority class in the training set. If you always predicted this class in the training set, what would your accuracy be?"
   ]
  },
  {
   "cell_type": "code",
   "execution_count": 3,
   "metadata": {
    "colab": {
     "base_uri": "https://localhost:8080/"
    },
    "id": "iYjEFc1greOx",
    "outputId": "9ec75038-40ae-46f1-febc-44d1bd1226db"
   },
   "outputs": [
    {
     "data": {
      "text/plain": [
       "gender\n",
       "female    647\n",
       "male      545\n",
       "dtype: int64"
      ]
     },
     "execution_count": 3,
     "metadata": {},
     "output_type": "execute_result"
    }
   ],
   "source": [
    "majority_class = df_train.groupby('gender').size()\n",
    "majority_class"
   ]
  },
  {
   "cell_type": "code",
   "execution_count": 4,
   "metadata": {
    "colab": {
     "base_uri": "https://localhost:8080/"
    },
    "id": "3byDaWYcTxHE",
    "outputId": "25686cbf-129b-44e7-b182-c2ec45dd8aab"
   },
   "outputs": [
    {
     "data": {
      "text/plain": [
       "0.5427852348993288"
      ]
     },
     "execution_count": 4,
     "metadata": {},
     "output_type": "execute_result"
    }
   ],
   "source": [
    "(647) / (647 + 545)"
   ]
  },
  {
   "cell_type": "markdown",
   "metadata": {
    "id": "RtvFM-hM0y2o"
   },
   "source": [
    "###ANSWER: 0.5427852348993288\n",
    " "
   ]
  },
  {
   "cell_type": "markdown",
   "metadata": {
    "id": "ULPKW0IvreOy"
   },
   "source": [
    "**Question 1.b**   \n",
    "If you always predicted this same class (majority from the training set) in the test set, what would your accuracy be?"
   ]
  },
  {
   "cell_type": "code",
   "execution_count": 5,
   "metadata": {
    "colab": {
     "base_uri": "https://localhost:8080/"
    },
    "id": "dfU5mwh405vq",
    "outputId": "74deef17-adf7-4307-b3c2-384f590bc8f4"
   },
   "outputs": [
    {
     "data": {
      "text/plain": [
       "gender\n",
       "female    208\n",
       "male      190\n",
       "dtype: int64"
      ]
     },
     "execution_count": 5,
     "metadata": {},
     "output_type": "execute_result"
    }
   ],
   "source": [
    "majority_test = df_test.groupby('gender').size()\n",
    "majority_test"
   ]
  },
  {
   "cell_type": "code",
   "execution_count": 6,
   "metadata": {
    "colab": {
     "base_uri": "https://localhost:8080/"
    },
    "id": "E3-ZZnsfU8yn",
    "outputId": "3baaeacd-f87b-423b-90af-5bb507aaf7b1"
   },
   "outputs": [
    {
     "data": {
      "text/plain": [
       "0.5226130653266332"
      ]
     },
     "execution_count": 6,
     "metadata": {},
     "output_type": "execute_result"
    }
   ],
   "source": [
    "(208) / (208 + 190)"
   ]
  },
  {
   "cell_type": "markdown",
   "metadata": {
    "id": "pINRUJxG05v4"
   },
   "source": [
    "###ANSWER: 0.5226130653266332\n"
   ]
  },
  {
   "cell_type": "markdown",
   "metadata": {
    "id": "GKb2Ju-GreO0"
   },
   "source": [
    "***\n",
    "### Question 2 ###\n",
    "Get started with Neural Networks."
   ]
  },
  {
   "cell_type": "markdown",
   "metadata": {
    "id": "UYI6e3F3reO0"
   },
   "source": [
    "   \n",
    "Choose a NN implementation (eg: scikit-learn) and specify which you choose. Be sure the implementation allows you to modify the number of hidden layers and hidden nodes per layer.  \n",
    "\n",
    "NOTE: When possible, specify the logsig (sigmoid/logistc) function as the transfer function (another word for activation function) and use Levenberg-Marquardt backpropagation (lbfgs). It is possible to specify logistic in Sklearn MLPclassifier (Neural net).  "
   ]
  },
  {
   "cell_type": "markdown",
   "metadata": {
    "id": "4am3sGc4reO1"
   },
   "source": [
    "**Question 2.a**   \n",
    "Train a neural network with a single 10 node hidden layer. Only use the Height feature of the dataset to predict the Gender. You will have to change Gender to a 0 and 1 class. After training, use your trained model to predict the class using the height feature from the training set. What was the accuracy of this prediction?"
   ]
  },
  {
   "cell_type": "code",
   "execution_count": 7,
   "metadata": {
    "colab": {
     "base_uri": "https://localhost:8080/"
    },
    "id": "jbAzltaw067l",
    "outputId": "b0c08c5a-2452-476c-d36a-4613d19e9ca7"
   },
   "outputs": [
    {
     "data": {
      "text/plain": [
       "0.8439597315436241"
      ]
     },
     "execution_count": 7,
     "metadata": {},
     "output_type": "execute_result"
    }
   ],
   "source": [
    "x_train = df_train[['height']]\n",
    "y_train = pd.get_dummies(df_train[['gender']])\n",
    "mlp_class = MLPClassifier(solver = 'lbfgs', hidden_layer_sizes = 10, activation = 'logistic', random_state = 42)\n",
    "mlp_class.fit(x_train, y_train)\n",
    "mlp_class.score(x_train, y_train)"
   ]
  },
  {
   "cell_type": "markdown",
   "metadata": {
    "id": "EuaCk0l0067q"
   },
   "source": [
    "###ANSWER: 0.8439597315436241"
   ]
  },
  {
   "cell_type": "markdown",
   "metadata": {
    "id": "AkqzIeshreO2"
   },
   "source": [
    "**Question 2.b**  \n",
    "Take the trained model from question 2.a and use it to predict the test set. This can be accomplished by taking the trained model and giving it the Height feature values from the test set. What is the accuracy of this model on the test set?"
   ]
  },
  {
   "cell_type": "code",
   "execution_count": 8,
   "metadata": {
    "colab": {
     "base_uri": "https://localhost:8080/"
    },
    "id": "Tw25ezWp07hj",
    "outputId": "63c29551-484a-47fd-9d85-8c44bb66a89b"
   },
   "outputs": [
    {
     "data": {
      "text/plain": [
       "0.8542713567839196"
      ]
     },
     "execution_count": 8,
     "metadata": {},
     "output_type": "execute_result"
    }
   ],
   "source": [
    "x_test = df_test[['height']]\n",
    "y_test = pd.get_dummies(df_test[['gender']])\n",
    "\n",
    "mlp_class.score(x_test, y_test)"
   ]
  },
  {
   "cell_type": "markdown",
   "metadata": {
    "id": "HbHMAFvw07hm"
   },
   "source": [
    "###ANSWER: 0.8542713567839196"
   ]
  },
  {
   "cell_type": "markdown",
   "metadata": {
    "id": "uMmIfsNEreO3"
   },
   "source": [
    "**Question 2.c**   \n",
    "Neural Networks tend to prefer smaller, normalized feature values. Try taking the log of the height feature in both training and testing sets or use a Standard Scalar operation in SKlearn to centre and normalize the data between 0-1 for continuous values. Repeat question 2.a and 2.b with the log version or the normalized and centered version of this feature"
   ]
  },
  {
   "cell_type": "code",
   "execution_count": 9,
   "metadata": {
    "colab": {
     "base_uri": "https://localhost:8080/",
     "height": 51
    },
    "id": "wDhCZPaU07_8",
    "outputId": "62e3a4b1-6e96-436a-d396-e9036534e681"
   },
   "outputs": [
    {
     "data": {
      "text/plain": [
       "0.8439597315436241"
      ]
     },
     "metadata": {},
     "output_type": "display_data"
    },
    {
     "data": {
      "text/plain": [
       "0.8542713567839196"
      ]
     },
     "metadata": {},
     "output_type": "display_data"
    }
   ],
   "source": [
    "mlp_class_c = MLPClassifier(solver = 'lbfgs', hidden_layer_sizes = 10, activation = 'logistic', random_state = 42)\n",
    "scaler_train = StandardScaler()\n",
    "scaler_test = StandardScaler()\n",
    "\n",
    "scaler_train.fit(x_train)\n",
    "scaler_test.fit(x_test)\n",
    "\n",
    "x_train['height'] = scaler_train.transform(x_train)\n",
    "x_test['height'] = scaler_test.transform(x_test)\n",
    "\n",
    "mlp_class_c.fit(x_train, y_train)\n",
    "\n",
    "display(\n",
    "mlp_class_c.score(x_train, y_train),\n",
    "mlp_class_c.score(x_test, y_test)\n",
    ")"
   ]
  },
  {
   "cell_type": "markdown",
   "metadata": {
    "id": "GTO2KMti07__"
   },
   "source": [
    "###ANSWER: Training Set: 0.8439597315436241 // Testing Set: 0.8542713567839196"
   ]
  },
  {
   "cell_type": "markdown",
   "metadata": {
    "id": "2_SlOdcarePC"
   },
   "source": [
    "***\n",
    "\n",
    "### Question 3###\n",
    "The rest of features in this dataset barring a few are categorical. No ML method accepts categorical features, so transform year, eyecolor, exercise into a set of binary features, one feature per unique original feature value, and mark the binary feature as ‘1’ if the feature value matches the original value and ‘0’ otherwise. Using only these binary variable transformed features, train and predict the class of the test set. What was your accuracy using Neural Network with a single 10 node hidden layer? During training, use a maximum number of iterations of 50."
   ]
  },
  {
   "cell_type": "code",
   "execution_count": 10,
   "metadata": {
    "colab": {
     "base_uri": "https://localhost:8080/"
    },
    "id": "YjhzBFNV1Aip",
    "outputId": "a5f68b1e-87f7-4902-d2bc-aa1a18da822b"
   },
   "outputs": [
    {
     "data": {
      "text/plain": [
       "0.5703517587939698"
      ]
     },
     "execution_count": 10,
     "metadata": {},
     "output_type": "execute_result"
    }
   ],
   "source": [
    "mlp_class_3 = MLPClassifier(solver = 'lbfgs', hidden_layer_sizes = 10, max_iter = 50, activation = 'logistic', random_state = 42)\n",
    "\n",
    "train_3 = df_train[['year', 'eyecolor', 'exercise']]\n",
    "test_3 = df_test[['year', 'eyecolor', 'exercise']]\n",
    "\n",
    "train_3_getdum = pd.get_dummies(train_3)\n",
    "test_3_getdum = pd.get_dummies(test_3)\n",
    "\n",
    "mlp_class_3.fit(train_3_getdum, y_train)\n",
    "mlp_class_3.score(test_3_getdum, y_test)"
   ]
  },
  {
   "cell_type": "markdown",
   "metadata": {
    "id": "PyQ1EvAY1Ait"
   },
   "source": [
    "###ANSWER: "
   ]
  },
  {
   "cell_type": "markdown",
   "metadata": {
    "id": "dSSr9sBlrePG"
   },
   "source": [
    "***\n",
    "### Question 4###\n",
    "Using a NN, report the accuracy on  the test set of a model that trained only on the height and the eye color features of instances in the training set."
   ]
  },
  {
   "cell_type": "markdown",
   "metadata": {
    "id": "rMNSlOmJrePG"
   },
   "source": [
    "**Question 4.a**  \n",
    "What is the accuracy on the test set using the original height values (no pre-processing) and eye color as a one-hot?"
   ]
  },
  {
   "cell_type": "code",
   "execution_count": 11,
   "metadata": {
    "colab": {
     "base_uri": "https://localhost:8080/"
    },
    "id": "F_vN4tyv1Ckq",
    "outputId": "3a147860-95f8-4b70-e3bb-7bbfe3df1862"
   },
   "outputs": [
    {
     "data": {
      "text/plain": [
       "0.8517587939698492"
      ]
     },
     "execution_count": 11,
     "metadata": {},
     "output_type": "execute_result"
    }
   ],
   "source": [
    "mlp_class_4a = MLPClassifier(solver = 'lbfgs', hidden_layer_sizes = 10, activation = 'logistic', random_state = 42)\n",
    "train_4a = pd.get_dummies(df_train[['eyecolor']])\n",
    "train_4a['height'] = df_train['height']\n",
    "\n",
    "test_4a = pd.get_dummies(df_test[['eyecolor']])\n",
    "test_4a['height'] = df_test['height']\n",
    "\n",
    "mlp_class_4a.fit(train_4a, y_train)\n",
    "mlp_class_4a.score(test_4a, y_test)"
   ]
  },
  {
   "cell_type": "markdown",
   "metadata": {
    "id": "CaL2o0TW1Cks"
   },
   "source": [
    "###ANSWER: 0.8618090452261307\n"
   ]
  },
  {
   "cell_type": "markdown",
   "metadata": {
    "id": "NC8Ipx9QrePH"
   },
   "source": [
    "**Question 4.b**  \n",
    "What is the accuracy on the test set using the log of height values (applied to both training and testing sets) and eye color as a one-hot?"
   ]
  },
  {
   "cell_type": "code",
   "execution_count": 12,
   "metadata": {
    "colab": {
     "base_uri": "https://localhost:8080/"
    },
    "id": "cFvzNv6O1DG3",
    "outputId": "7fba55c6-39d3-4f4a-c460-52856c5c1fa9"
   },
   "outputs": [
    {
     "data": {
      "text/plain": [
       "0.8467336683417085"
      ]
     },
     "execution_count": 12,
     "metadata": {},
     "output_type": "execute_result"
    }
   ],
   "source": [
    "mlp_class_4b = MLPClassifier(solver = 'lbfgs', hidden_layer_sizes = 10, activation = 'logistic', random_state = 42)\n",
    "train_4b = pd.get_dummies(df_train[['eyecolor']])\n",
    "train_4b['height'] = np.log(df_train['height'])\n",
    "\n",
    "test_4b = pd.get_dummies(df_test[['eyecolor']])\n",
    "test_4b['height'] = np.log(df_test['height'])\n",
    "\n",
    "mlp_class_4b.fit(train_4b, y_train)\n",
    "mlp_class_4b.score(test_4b, y_test)"
   ]
  },
  {
   "cell_type": "markdown",
   "metadata": {
    "id": "Pt3NMp1M1DG4"
   },
   "source": [
    "###ANSWER: 0.8492462311557789"
   ]
  },
  {
   "cell_type": "markdown",
   "metadata": {
    "id": "iYm2jqnprePI"
   },
   "source": [
    "**Question 4.c**  \n",
    "What is the accuracy on the test set using the Z-score of height values and eye color as a one-hot? \n",
    "\n",
    "Z-score is a normalization function. It is the value of a feature minus the average value for that feature (in the training set), divided by the standard deviation of that feature (in the training set). Remember that, whenever applying a function to a feature in the training set, it also has to be applied to that same feature in the test set."
   ]
  },
  {
   "cell_type": "code",
   "execution_count": 13,
   "metadata": {
    "colab": {
     "base_uri": "https://localhost:8080/"
    },
    "id": "P3mDjF6N1DoN",
    "outputId": "9cdb46c4-2302-4ba6-c8dd-c9a48e2df478"
   },
   "outputs": [
    {
     "data": {
      "text/plain": [
       "0.8693467336683417"
      ]
     },
     "execution_count": 13,
     "metadata": {},
     "output_type": "execute_result"
    }
   ],
   "source": [
    "mlp_class_4c = MLPClassifier(solver = 'lbfgs', hidden_layer_sizes = 10, activation = 'logistic', random_state = 42)\n",
    "\n",
    "def z(col):\n",
    "  avg = np.mean(col)\n",
    "  sd = np.std(col)\n",
    "  return (col - avg) / sd\n",
    "\n",
    "train_4b['height'] = z(df_train['height'])\n",
    "test_4b['height'] = z(df_test['height'])\n",
    "\n",
    "mlp_class_4c.fit(train_4b, y_train)\n",
    "mlp_class_4c.score(test_4b, y_test)"
   ]
  },
  {
   "cell_type": "markdown",
   "metadata": {
    "id": "YAnuY8Sv1DoO"
   },
   "source": [
    "###ANSWER: 0.8693467336683417"
   ]
  },
  {
   "cell_type": "markdown",
   "metadata": {
    "id": "Fh9qwu_9rePJ"
   },
   "source": [
    "***\n",
    "### Question 5 ###\n",
    "Repeat question 4 for exercise hours + eye color"
   ]
  },
  {
   "cell_type": "code",
   "execution_count": 14,
   "metadata": {
    "colab": {
     "base_uri": "https://localhost:8080/"
    },
    "id": "JAgHz_r-1EMR",
    "outputId": "a2f4de78-5eba-4cb8-ff76-c2f1af6cd5e1"
   },
   "outputs": [
    {
     "name": "stdout",
     "output_type": "stream",
     "text": [
      "Accuracy Score for Exercise Hours + Eye Color:  0.535175879396985\n"
     ]
    }
   ],
   "source": [
    "mlp_class_5a = MLPClassifier(solver = 'lbfgs', hidden_layer_sizes = 10, activation = 'logistic', random_state = 42)\n",
    "train_5a = pd.get_dummies(df_train[['eyecolor']])\n",
    "train_5a['exercisehours'] = df_train['exercisehours']\n",
    "\n",
    "test_5a = pd.get_dummies(df_test[['eyecolor']])\n",
    "test_5a['exercisehours'] = df_test['exercisehours']\n",
    "\n",
    "mlp_class_5a.fit(train_5a, y_train)\n",
    "print('Accuracy Score for Exercise Hours + Eye Color: ', mlp_class_5a.score(test_5a, y_test))\n"
   ]
  },
  {
   "cell_type": "code",
   "execution_count": 15,
   "metadata": {
    "colab": {
     "base_uri": "https://localhost:8080/"
    },
    "id": "hUrtITFp0SKq",
    "outputId": "dd74d07a-c56f-4c6d-e7a4-70a7c644fb58"
   },
   "outputs": [
    {
     "name": "stdout",
     "output_type": "stream",
     "text": [
      "Accuracy Score for Log(Exercise Hours) + Eye Color:  0.5690376569037657\n"
     ]
    }
   ],
   "source": [
    "mlp_class_5b = MLPClassifier(solver = 'lbfgs', hidden_layer_sizes = 10, activation = 'logistic', random_state = 42)\n",
    "train_5b = pd.get_dummies(df_train[['eyecolor']])\n",
    "train_5b['exercisehours'] = np.log(df_train['exercisehours']).replace([np.inf, -np.inf], np.nan)\n",
    "train_5b = train_5b.dropna()\n",
    "y_train_dropped = y_train.iloc[train_5b.index,:]\n",
    "\n",
    "test_5b = pd.get_dummies(df_test[['eyecolor']])\n",
    "test_5b['exercisehours'] = np.log(df_test['exercisehours']).replace([np.inf, -np.inf], np.nan)\n",
    "test_5b = test_5b.dropna()\n",
    "y_test_dropped = y_test.iloc[test_5b.index,:]\n",
    "\n",
    "mlp_class_5b.fit(train_5b, y_train_dropped)\n",
    "print('Accuracy Score for Log(Exercise Hours) + Eye Color: ', mlp_class_5b.score(test_5b, y_test_dropped))"
   ]
  },
  {
   "cell_type": "code",
   "execution_count": 16,
   "metadata": {
    "colab": {
     "base_uri": "https://localhost:8080/"
    },
    "id": "_PcjeyOR5QSZ",
    "outputId": "97f6060c-81d6-4242-fc3a-8b37d9f73c40"
   },
   "outputs": [
    {
     "name": "stdout",
     "output_type": "stream",
     "text": [
      "Accuracy Score for Z Score Exercise Hours + Eye Color:  0.5653266331658291\n"
     ]
    }
   ],
   "source": [
    "mlp_class_5c = MLPClassifier(solver = 'lbfgs', hidden_layer_sizes = 10, activation = 'logistic', random_state = 42)\n",
    "\n",
    "def z(col):\n",
    "  avg = np.mean(col)\n",
    "  sd = np.std(col)\n",
    "  return (col - avg) / sd\n",
    "\n",
    "train_5a['exercisehours'] = z(df_train['exercisehours'])\n",
    "test_5a['exercisehours'] = z(df_test['exercisehours'])\n",
    "\n",
    "mlp_class_5c.fit(train_5a, y_train)\n",
    "print('Accuracy Score for Z Score Exercise Hours + Eye Color: ', mlp_class_5c.score(test_5a, y_test))"
   ]
  },
  {
   "cell_type": "markdown",
   "metadata": {
    "id": "ZlDfGvy61EMS"
   },
   "source": [
    "###ANSWER: \n",
    "### Accuracy Score for Exercise Hours + Eye Color:  0.5603015075376885\n",
    "### Accuracy Score for Log(Exercise Hours) + Eye Color:  0.5732217573221757 \n",
    "### Accuracy Score for Z Score Exercise Hours + Eye Color:  0.5653266331658291"
   ]
  },
  {
   "cell_type": "markdown",
   "metadata": {
    "id": "JYVuaPWgrePL"
   },
   "source": [
    "***\n",
    "### Question 6###\n",
    "Combine the features from question 3, 4, and 5 (year, eyecolor, exercise, height, exercise hours). For numeric features use the best normalization method from questions 4 and 5."
   ]
  },
  {
   "cell_type": "markdown",
   "metadata": {
    "id": "1iAiFhlFrePM"
   },
   "source": [
    "**Question 6.a**  \n",
    "What was the NN accuracy on the test set using the single 10 node hidden layer?"
   ]
  },
  {
   "cell_type": "code",
   "execution_count": 17,
   "metadata": {
    "colab": {
     "base_uri": "https://localhost:8080/"
    },
    "id": "QuLJ6sTB1FfN",
    "outputId": "5a8d4651-d272-4e73-96e9-ce3700a54cc3"
   },
   "outputs": [
    {
     "data": {
      "text/plain": [
       "0.7949790794979079"
      ]
     },
     "execution_count": 17,
     "metadata": {},
     "output_type": "execute_result"
    }
   ],
   "source": [
    "mlp_class_6 = MLPClassifier(solver = 'lbfgs', hidden_layer_sizes = 10, activation = 'logistic', random_state = 42)\n",
    "\n",
    "train_6 = pd.get_dummies(df_train[['year', 'eyecolor', 'exercise']])\n",
    "train_6['height'] = z(df_train['height'])\n",
    "train_6['exercisehours'] = np.log(df_train['exercisehours']).replace([np.inf, -np.inf], np.nan)\n",
    "train_6 = train_6.dropna()\n",
    "y_train_6 = y_train.iloc[train_6.index,:]\n",
    "\n",
    "test_6 = pd.get_dummies(df_test[['year', 'eyecolor', 'exercise']])\n",
    "test_6['height'] = z(df_test['height'])\n",
    "test_6['exercisehours'] = np.log(df_test['exercisehours']).replace([np.inf, -np.inf], np.nan)\n",
    "test_6 = test_6.dropna()\n",
    "y_test_6 = y_test.iloc[test_6.index,:]\n",
    "\n",
    "mlp_class_6.fit(train_6, y_train_6)\n",
    "mlp_class_6.score(test_6, y_test_6)"
   ]
  },
  {
   "cell_type": "markdown",
   "metadata": {
    "id": "1foS74O01FfP"
   },
   "source": [
    "###ANSWER: NN Accuracy Score: 0.799163179916318\n"
   ]
  },
  {
   "cell_type": "markdown",
   "metadata": {
    "id": "Jusc-kofrePP"
   },
   "source": [
    "***\n",
    "### Question 7- Bonus (10%)###\n",
    "Can you improve your test set prediction accuracy by 5% or more?  \n",
    "\n",
    "See how close to that milestone of improvement you can get by modifying the tuning parameters of  Neural Networks (the number of hidden layers, number of hidden nodes in each layer, the learning rate aka mu). A great guide to tuning parameters is explained in this guide: http://www.csie.ntu.edu.tw/~cjlin/papers/guide/guide.pdf. \n",
    "\n",
    "While the guide is specific to SVM and in particular the C and gamma parameters of the RBF kernel, the method applies to generally to any ML technique with tuning parameters.\n",
    "\n",
    "Please also write a paragraph in a markdown cell below with an explanation of your approach and evaluation metrics.\n"
   ]
  },
  {
   "cell_type": "code",
   "execution_count": 18,
   "metadata": {
    "colab": {
     "base_uri": "https://localhost:8080/"
    },
    "id": "qvpoUdeq1GsX",
    "outputId": "bb84f2c2-c53d-4c18-b74c-86b03fc252f9"
   },
   "outputs": [
    {
     "data": {
      "text/plain": [
       "0.8493723849372385"
      ]
     },
     "execution_count": 18,
     "metadata": {},
     "output_type": "execute_result"
    }
   ],
   "source": [
    "mlp_class_7 = MLPClassifier(solver = 'lbfgs', max_iter = 21, hidden_layer_sizes = 10, activation = 'logistic', random_state = 42)\n",
    "\n",
    "mlp_class_7.fit(train_6, y_train_6)\n",
    "mlp_class_7.score(test_6, y_test_6)"
   ]
  },
  {
   "cell_type": "code",
   "execution_count": 19,
   "metadata": {
    "colab": {
     "base_uri": "https://localhost:8080/"
    },
    "id": "bPWTcfjFBl5v",
    "outputId": "4bba1549-9a99-4854-c21b-6445c1c286c4"
   },
   "outputs": [
    {
     "data": {
      "text/plain": [
       "21"
      ]
     },
     "execution_count": 19,
     "metadata": {},
     "output_type": "execute_result"
    }
   ],
   "source": [
    "acc = []\n",
    "best_i = 1\n",
    "best_score = 0\n",
    "\n",
    "for i in np.arange(1, 100):\n",
    "  mlp_class_7 = MLPClassifier(solver = 'lbfgs', max_iter = i, hidden_layer_sizes = 10, activation = 'logistic', random_state = 42)\n",
    "  mlp_class_7.fit(train_6, y_train_6)\n",
    "  score_add = mlp_class_7.score(test_6, y_test_6)\n",
    "  acc.append(score_add)\n",
    "  if (score_add > best_score):\n",
    "    best_score = score_add\n",
    "    best_i = i\n",
    "\n",
    "best_i"
   ]
  },
  {
   "cell_type": "code",
   "execution_count": 20,
   "metadata": {
    "colab": {
     "base_uri": "https://localhost:8080/"
    },
    "id": "XiDG8X0DECQJ",
    "outputId": "34359322-e7ba-4f84-a99c-da3ae7d66ef1"
   },
   "outputs": [
    {
     "data": {
      "text/plain": [
       "0.8493723849372385"
      ]
     },
     "execution_count": 20,
     "metadata": {},
     "output_type": "execute_result"
    }
   ],
   "source": [
    "acc[best_i]"
   ]
  },
  {
   "cell_type": "markdown",
   "metadata": {
    "id": "2rFY8D4Q1GsZ"
   },
   "source": [
    "###ANSWER: 0.8493723849372385\n"
   ]
  }
 ],
 "metadata": {
  "colab": {
   "collapsed_sections": [
    "GTO2KMti07__",
    "YAnuY8Sv1DoO",
    "ZlDfGvy61EMS",
    "1foS74O01FfP",
    "2rFY8D4Q1GsZ",
    "Aw1fJ59W0_t3"
   ],
   "name": "PARK_JUN_Lab4.ipynb",
   "provenance": []
  },
  "kernelspec": {
   "display_name": "Python 3 (ipykernel)",
   "language": "python",
   "name": "python3"
  },
  "language_info": {
   "codemirror_mode": {
    "name": "ipython",
    "version": 3
   },
   "file_extension": ".py",
   "mimetype": "text/x-python",
   "name": "python",
   "nbconvert_exporter": "python",
   "pygments_lexer": "ipython3",
   "version": "3.9.9"
  }
 },
 "nbformat": 4,
 "nbformat_minor": 1
}
